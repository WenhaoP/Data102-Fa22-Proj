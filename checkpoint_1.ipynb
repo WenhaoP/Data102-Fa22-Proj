{
 "cells": [
  {
   "cell_type": "markdown",
   "metadata": {},
   "source": [
    "# Checkpoint 1: EDA\n",
    "\n",
    "This reports explain our work for checkpoint 1, which can be divided into data preprocessing and EDA."
   ]
  },
  {
   "cell_type": "markdown",
   "metadata": {},
   "source": [
    "## Data Preprocessing"
   ]
  },
  {
   "cell_type": "markdown",
   "metadata": {},
   "source": [
    "The original dataset is from [Kaggle](https://www.kaggle.com/datasets/des137/us-births-2018). It contains the information about all of the child birth in the United States in the year of 2018. It is a large dataset with 3.8 million observations and 55 features. For better statistical analysis on this dataset for our study, we clean the data, conduct feature engineering, and subsample the observations and features."
   ]
  },
  {
   "cell_type": "code",
   "execution_count": 1,
   "metadata": {},
   "outputs": [],
   "source": [
    "import pandas as pd"
   ]
  },
  {
   "cell_type": "code",
   "execution_count": 2,
   "metadata": {},
   "outputs": [
    {
     "name": "stderr",
     "output_type": "stream",
     "text": [
      "C:\\Users\\Wenhao\\AppData\\Local\\Temp\\ipykernel_8936\\1232191482.py:1: DtypeWarning: Columns (7) have mixed types. Specify dtype option on import or set low_memory=False.\n",
      "  birth = pd.read_csv('US_births(2018).csv')\n"
     ]
    }
   ],
   "source": [
    "birth = pd.read_csv('US_births(2018).csv')"
   ]
  },
  {
   "cell_type": "code",
   "execution_count": 3,
   "metadata": {},
   "outputs": [
    {
     "data": {
      "text/plain": [
       "(3801534, 55)"
      ]
     },
     "execution_count": 3,
     "metadata": {},
     "output_type": "execute_result"
    }
   ],
   "source": [
    "birth.shape"
   ]
  },
  {
   "cell_type": "markdown",
   "metadata": {},
   "source": [
    "### Data Cleaning"
   ]
  },
  {
   "cell_type": "code",
   "execution_count": 4,
   "metadata": {},
   "outputs": [],
   "source": [
    "clean_birth = birth.dropna()\n",
    "\n",
    "# remove missing values in the response/outcome variable\n",
    "clean_birth = clean_birth[clean_birth['DBWT'] != 9999] \n",
    "\n",
    "# remove missing values in the features\n",
    "clean_birth = clean_birth[\n",
    "    (clean_birth['PRECARE'] != 99) & \n",
    "    (clean_birth['CIG_0'] != 99) & \n",
    "    (clean_birth['BMI'] != 99.9) & \n",
    "    (clean_birth['PREVIS'] != 99) & \n",
    "    (clean_birth['MRAVE6'] != 9) & \n",
    "    (clean_birth['PAY_REC'] != 9) &\n",
    "    (clean_birth['FRACE6'] != 9) &\n",
    "    (clean_birth['MEDUC'] != 9) & \n",
    "    (clean_birth['FEDUC'] != 9) & \n",
    "    (clean_birth['NO_RISKS'] != 9) & \n",
    "    (clean_birth['ATTEND'] != 9) &\n",
    "    (clean_birth['BFACIL'] != 9) &\n",
    "    (clean_birth['FAGECOMB'] != 99) &\n",
    "    (clean_birth['RF_CESAR'] != 'U') &\n",
    "    (clean_birth['LD_INDL'] != 'U') &\n",
    "    (clean_birth['MBSTATE_REC'] != 3) &\n",
    "    (clean_birth['M_Ht_In'] != 99) &\n",
    "    (clean_birth['NO_INFEC'] != 9) &\n",
    "    (clean_birth['NO_MMORB'] != 9) &\n",
    "    (clean_birth['PRIORLIVE'] != 99) &\n",
    "    (clean_birth['PRIORTERM'] != 99) &\n",
    "    (clean_birth['RDMETH_REC'] != 9) &\n",
    "    (clean_birth['DLMP_YY'] != 9999) &\n",
    "    (clean_birth['DLMP_MM'] != 99) &\n",
    "    (clean_birth['PWgt_R'] != 999) &\n",
    "    (clean_birth['WTGAIN'] != 99) &\n",
    "    (clean_birth['ILLB_R'] != 909)\n",
    "] "
   ]
  },
  {
   "cell_type": "code",
   "execution_count": 5,
   "metadata": {},
   "outputs": [
    {
     "data": {
      "text/plain": [
       "(2783789, 55)"
      ]
     },
     "execution_count": 5,
     "metadata": {},
     "output_type": "execute_result"
    }
   ],
   "source": [
    "clean_birth.shape"
   ]
  },
  {
   "cell_type": "markdown",
   "metadata": {},
   "source": [
    "In this step, we remove any observation with missing values in important features. Although this may make our subsequent statistical analysis biased, we believe that the remaining data is sufficient for us to give confident conclusion. Interpolating these missing values might be a strategy worth to try in future studies."
   ]
  },
  {
   "cell_type": "markdown",
   "metadata": {},
   "source": [
    "### Feature engineering"
   ]
  },
  {
   "cell_type": "code",
   "execution_count": 6,
   "metadata": {},
   "outputs": [
    {
     "name": "stderr",
     "output_type": "stream",
     "text": [
      "C:\\Users\\Wenhao\\AppData\\Local\\Temp\\ipykernel_8936\\3934213008.py:5: SettingWithCopyWarning: \n",
      "A value is trying to be set on a copy of a slice from a DataFrame\n",
      "\n",
      "See the caveats in the documentation: https://pandas.pydata.org/pandas-docs/stable/user_guide/indexing.html#returning-a-view-versus-a-copy\n",
      "  clean_birth['PRECARE'][(clean_birth['PRECARE'] < 4) & (clean_birth['PRECARE'] > 0)] = 1\n",
      "C:\\Users\\Wenhao\\AppData\\Local\\Temp\\ipykernel_8936\\3934213008.py:6: SettingWithCopyWarning: \n",
      "A value is trying to be set on a copy of a slice from a DataFrame\n",
      "\n",
      "See the caveats in the documentation: https://pandas.pydata.org/pandas-docs/stable/user_guide/indexing.html#returning-a-view-versus-a-copy\n",
      "  clean_birth['PRECARE'][(clean_birth['PRECARE'] < 7) & (clean_birth['PRECARE'] > 3)] = 2\n",
      "C:\\Users\\Wenhao\\AppData\\Local\\Temp\\ipykernel_8936\\3934213008.py:7: SettingWithCopyWarning: \n",
      "A value is trying to be set on a copy of a slice from a DataFrame\n",
      "\n",
      "See the caveats in the documentation: https://pandas.pydata.org/pandas-docs/stable/user_guide/indexing.html#returning-a-view-versus-a-copy\n",
      "  clean_birth['PRECARE'][(clean_birth['PRECARE'] > 6)] = 3\n"
     ]
    }
   ],
   "source": [
    "# estimate pregnancy length\n",
    "clean_birth['PREG_LEN'] = 12*(2018 - clean_birth['DLMP_YY']) + (clean_birth['DOB_MM'] - clean_birth['DLMP_MM']) \n",
    "\n",
    "# recode PRECARE\n",
    "clean_birth['PRECARE'][(clean_birth['PRECARE'] < 4) & (clean_birth['PRECARE'] > 0)] = 1 \n",
    "clean_birth['PRECARE'][(clean_birth['PRECARE'] < 7) & (clean_birth['PRECARE'] > 3)] = 2\n",
    "clean_birth['PRECARE'][(clean_birth['PRECARE'] > 6)] = 3\n",
    "\n",
    "# compute percentage weight gain\n",
    "clean_birth['WTGAIN_PER'] = clean_birth['WTGAIN'] / clean_birth['PWgt_R'] \n",
    "\n",
    "# binarize CIG_0\n",
    "clean_birth['CIG'] = clean_birth['CIG_0'] > 0 \n",
    "\n",
    "# binarize PRIORDEAD\n",
    "clean_birth['PRIORDEAD'] = clean_birth['PRIORDEAD'] > 0\n",
    "\n",
    "# binarize PRIORTERM\n",
    "clean_birth['PRIORTERM'] = clean_birth['PRIORTERM'] > 0\n",
    "\n",
    "# binarize PRIORLIVE\n",
    "clean_birth['PRIORLIVE'] = clean_birth['PRIORLIVE'] > 0\n",
    "\n",
    "# compute first time live birth\n",
    "clean_birth['FIRST_BIRTH'] = clean_birth['ILLB_R'] == 888"
   ]
  },
  {
   "cell_type": "markdown",
   "metadata": {},
   "source": [
    "In this step, we recode some features to make them more suitable for analysis. For example, we add feature `PREG_LEN` to directly calculate the pregnancy length instead of having to look for the difference between the last normal menses month `DLMP_MM`  and the birth month `DOB_MM` in the original data.\n",
    "\n",
    "We recode the feature `PRECARE` and rate it according to the number of months of prenatal care. Simplifying this feature can make our analysis and calculation easier.\n",
    "\n",
    "We also binarize the number of cigarettes before birth as 0 or 1 in `CIG`. Any mother who had smoked before pregnacy, no matter how many cigarettes they had, will be classified as 1, while the rest are classified as 0. Binarizing this data will help us answer our causal inference question - does smoking cause lower baby birth weights. But we do realize that we are assuming a uniform treatment by binarization, which needs to be considered in later analysis.\n",
    "\n",
    "We also binarize `PRIORDEAD`, `PRIORLIVE`, and `PRIORTERM` features, so any prior deaths, livings, or other terminations of babies were either categorized as 1 (True) and 0 (False)."
   ]
  },
  {
   "cell_type": "code",
   "execution_count": 7,
   "metadata": {},
   "outputs": [],
   "source": [
    "# drop columns where >99% entries are the same\n",
    "clean_birth = clean_birth.drop(['DOB_YY', 'IMP_SEX', 'IP_GON', 'MAGE_IMPFLG', 'MAR_IMP', 'MM_AICU', 'MTRAN'], axis=1)\n",
    "\n",
    "# drop redundant columns due to feature engineering\n",
    "clean_birth = clean_birth.drop(['WTGAIN', 'PWgt_R', 'DWgt_R', 'DOB_MM', \n",
    "                                   'DOB_WK', 'DOB_TT', 'DOB_MM', 'DLMP_YY',\n",
    "                                   'DLMP_MM', 'PAY', 'MHISPX', 'MRACE15',\n",
    "                                   'MRACE31', 'MRACEIMP', 'FHISPX', 'FRACE15',\n",
    "                                   'FRACE31', 'RF_CESARN', 'ILOP_R', 'ILP_R', 'ILLB_R','CIG_0'], axis=1)"
   ]
  },
  {
   "cell_type": "code",
   "execution_count": 8,
   "metadata": {},
   "outputs": [
    {
     "data": {
      "text/plain": [
       "(2783789, 31)"
      ]
     },
     "execution_count": 8,
     "metadata": {},
     "output_type": "execute_result"
    }
   ],
   "source": [
    "clean_birth.shape"
   ]
  },
  {
   "cell_type": "markdown",
   "metadata": {},
   "source": [
    "We drop columns where over 99% entries have the same values because we think they can not provide much insights to our analysis. We also dropped the redundant columns due to feature engineering."
   ]
  },
  {
   "cell_type": "markdown",
   "metadata": {},
   "source": [
    "### Subsampling"
   ]
  },
  {
   "cell_type": "markdown",
   "metadata": {},
   "source": [
    "Since the above modified data still had 2783789 rows which might be too large for our analysis, we decided to randomly select 10000 of them and saved this new data as `sub_clean_birth`."
   ]
  },
  {
   "cell_type": "code",
   "execution_count": 9,
   "metadata": {},
   "outputs": [],
   "source": [
    "n = 10000\n",
    "sub_clean_birth = clean_birth.sample(n, random_state=102)"
   ]
  },
  {
   "cell_type": "code",
   "execution_count": 10,
   "metadata": {},
   "outputs": [
    {
     "data": {
      "text/html": [
       "<div>\n",
       "<style scoped>\n",
       "    .dataframe tbody tr th:only-of-type {\n",
       "        vertical-align: middle;\n",
       "    }\n",
       "\n",
       "    .dataframe tbody tr th {\n",
       "        vertical-align: top;\n",
       "    }\n",
       "\n",
       "    .dataframe thead th {\n",
       "        text-align: right;\n",
       "    }\n",
       "</style>\n",
       "<table border=\"1\" class=\"dataframe\">\n",
       "  <thead>\n",
       "    <tr style=\"text-align: right;\">\n",
       "      <th></th>\n",
       "      <th>ATTEND</th>\n",
       "      <th>BFACIL</th>\n",
       "      <th>BMI</th>\n",
       "      <th>DBWT</th>\n",
       "      <th>DMAR</th>\n",
       "      <th>FAGECOMB</th>\n",
       "      <th>FEDUC</th>\n",
       "      <th>FRACE6</th>\n",
       "      <th>LD_INDL</th>\n",
       "      <th>MAGER</th>\n",
       "      <th>...</th>\n",
       "      <th>PRIORLIVE</th>\n",
       "      <th>PRIORTERM</th>\n",
       "      <th>RDMETH_REC</th>\n",
       "      <th>RESTATUS</th>\n",
       "      <th>RF_CESAR</th>\n",
       "      <th>SEX</th>\n",
       "      <th>PREG_LEN</th>\n",
       "      <th>WTGAIN_PER</th>\n",
       "      <th>CIG</th>\n",
       "      <th>FIRST_BIRTH</th>\n",
       "    </tr>\n",
       "  </thead>\n",
       "  <tbody>\n",
       "    <tr>\n",
       "      <th>2780164</th>\n",
       "      <td>1</td>\n",
       "      <td>1</td>\n",
       "      <td>31.4</td>\n",
       "      <td>3670</td>\n",
       "      <td>1</td>\n",
       "      <td>29</td>\n",
       "      <td>6</td>\n",
       "      <td>1</td>\n",
       "      <td>N</td>\n",
       "      <td>32</td>\n",
       "      <td>...</td>\n",
       "      <td>False</td>\n",
       "      <td>False</td>\n",
       "      <td>1</td>\n",
       "      <td>2</td>\n",
       "      <td>N</td>\n",
       "      <td>M</td>\n",
       "      <td>9</td>\n",
       "      <td>0.000000</td>\n",
       "      <td>False</td>\n",
       "      <td>True</td>\n",
       "    </tr>\n",
       "    <tr>\n",
       "      <th>1306496</th>\n",
       "      <td>2</td>\n",
       "      <td>1</td>\n",
       "      <td>27.6</td>\n",
       "      <td>3494</td>\n",
       "      <td>1</td>\n",
       "      <td>34</td>\n",
       "      <td>4</td>\n",
       "      <td>1</td>\n",
       "      <td>Y</td>\n",
       "      <td>33</td>\n",
       "      <td>...</td>\n",
       "      <td>True</td>\n",
       "      <td>False</td>\n",
       "      <td>1</td>\n",
       "      <td>1</td>\n",
       "      <td>N</td>\n",
       "      <td>F</td>\n",
       "      <td>9</td>\n",
       "      <td>0.120482</td>\n",
       "      <td>False</td>\n",
       "      <td>False</td>\n",
       "    </tr>\n",
       "    <tr>\n",
       "      <th>3027006</th>\n",
       "      <td>1</td>\n",
       "      <td>1</td>\n",
       "      <td>27.1</td>\n",
       "      <td>3374</td>\n",
       "      <td>2</td>\n",
       "      <td>43</td>\n",
       "      <td>2</td>\n",
       "      <td>1</td>\n",
       "      <td>N</td>\n",
       "      <td>29</td>\n",
       "      <td>...</td>\n",
       "      <td>True</td>\n",
       "      <td>True</td>\n",
       "      <td>1</td>\n",
       "      <td>1</td>\n",
       "      <td>N</td>\n",
       "      <td>M</td>\n",
       "      <td>10</td>\n",
       "      <td>0.061350</td>\n",
       "      <td>True</td>\n",
       "      <td>False</td>\n",
       "    </tr>\n",
       "    <tr>\n",
       "      <th>903600</th>\n",
       "      <td>1</td>\n",
       "      <td>1</td>\n",
       "      <td>26.8</td>\n",
       "      <td>3520</td>\n",
       "      <td>1</td>\n",
       "      <td>30</td>\n",
       "      <td>3</td>\n",
       "      <td>1</td>\n",
       "      <td>Y</td>\n",
       "      <td>28</td>\n",
       "      <td>...</td>\n",
       "      <td>False</td>\n",
       "      <td>True</td>\n",
       "      <td>1</td>\n",
       "      <td>1</td>\n",
       "      <td>N</td>\n",
       "      <td>M</td>\n",
       "      <td>9</td>\n",
       "      <td>0.301282</td>\n",
       "      <td>False</td>\n",
       "      <td>True</td>\n",
       "    </tr>\n",
       "    <tr>\n",
       "      <th>2813944</th>\n",
       "      <td>1</td>\n",
       "      <td>1</td>\n",
       "      <td>21.3</td>\n",
       "      <td>3140</td>\n",
       "      <td>1</td>\n",
       "      <td>30</td>\n",
       "      <td>5</td>\n",
       "      <td>1</td>\n",
       "      <td>N</td>\n",
       "      <td>30</td>\n",
       "      <td>...</td>\n",
       "      <td>False</td>\n",
       "      <td>False</td>\n",
       "      <td>1</td>\n",
       "      <td>3</td>\n",
       "      <td>N</td>\n",
       "      <td>M</td>\n",
       "      <td>9</td>\n",
       "      <td>0.208333</td>\n",
       "      <td>False</td>\n",
       "      <td>True</td>\n",
       "    </tr>\n",
       "    <tr>\n",
       "      <th>...</th>\n",
       "      <td>...</td>\n",
       "      <td>...</td>\n",
       "      <td>...</td>\n",
       "      <td>...</td>\n",
       "      <td>...</td>\n",
       "      <td>...</td>\n",
       "      <td>...</td>\n",
       "      <td>...</td>\n",
       "      <td>...</td>\n",
       "      <td>...</td>\n",
       "      <td>...</td>\n",
       "      <td>...</td>\n",
       "      <td>...</td>\n",
       "      <td>...</td>\n",
       "      <td>...</td>\n",
       "      <td>...</td>\n",
       "      <td>...</td>\n",
       "      <td>...</td>\n",
       "      <td>...</td>\n",
       "      <td>...</td>\n",
       "      <td>...</td>\n",
       "    </tr>\n",
       "    <tr>\n",
       "      <th>1541267</th>\n",
       "      <td>1</td>\n",
       "      <td>1</td>\n",
       "      <td>35.9</td>\n",
       "      <td>3062</td>\n",
       "      <td>1</td>\n",
       "      <td>30</td>\n",
       "      <td>4</td>\n",
       "      <td>1</td>\n",
       "      <td>Y</td>\n",
       "      <td>30</td>\n",
       "      <td>...</td>\n",
       "      <td>True</td>\n",
       "      <td>False</td>\n",
       "      <td>1</td>\n",
       "      <td>1</td>\n",
       "      <td>N</td>\n",
       "      <td>M</td>\n",
       "      <td>9</td>\n",
       "      <td>0.173684</td>\n",
       "      <td>False</td>\n",
       "      <td>False</td>\n",
       "    </tr>\n",
       "    <tr>\n",
       "      <th>1786746</th>\n",
       "      <td>1</td>\n",
       "      <td>1</td>\n",
       "      <td>22.5</td>\n",
       "      <td>3855</td>\n",
       "      <td>1</td>\n",
       "      <td>30</td>\n",
       "      <td>3</td>\n",
       "      <td>1</td>\n",
       "      <td>Y</td>\n",
       "      <td>23</td>\n",
       "      <td>...</td>\n",
       "      <td>False</td>\n",
       "      <td>False</td>\n",
       "      <td>3</td>\n",
       "      <td>1</td>\n",
       "      <td>N</td>\n",
       "      <td>M</td>\n",
       "      <td>9</td>\n",
       "      <td>0.263514</td>\n",
       "      <td>False</td>\n",
       "      <td>True</td>\n",
       "    </tr>\n",
       "    <tr>\n",
       "      <th>1928116</th>\n",
       "      <td>1</td>\n",
       "      <td>1</td>\n",
       "      <td>20.4</td>\n",
       "      <td>2710</td>\n",
       "      <td>1</td>\n",
       "      <td>39</td>\n",
       "      <td>2</td>\n",
       "      <td>1</td>\n",
       "      <td>Y</td>\n",
       "      <td>32</td>\n",
       "      <td>...</td>\n",
       "      <td>True</td>\n",
       "      <td>True</td>\n",
       "      <td>1</td>\n",
       "      <td>2</td>\n",
       "      <td>N</td>\n",
       "      <td>M</td>\n",
       "      <td>9</td>\n",
       "      <td>0.388889</td>\n",
       "      <td>True</td>\n",
       "      <td>False</td>\n",
       "    </tr>\n",
       "    <tr>\n",
       "      <th>60244</th>\n",
       "      <td>1</td>\n",
       "      <td>1</td>\n",
       "      <td>24.4</td>\n",
       "      <td>3118</td>\n",
       "      <td>1</td>\n",
       "      <td>35</td>\n",
       "      <td>2</td>\n",
       "      <td>1</td>\n",
       "      <td>Y</td>\n",
       "      <td>34</td>\n",
       "      <td>...</td>\n",
       "      <td>False</td>\n",
       "      <td>False</td>\n",
       "      <td>3</td>\n",
       "      <td>2</td>\n",
       "      <td>N</td>\n",
       "      <td>M</td>\n",
       "      <td>10</td>\n",
       "      <td>0.147887</td>\n",
       "      <td>False</td>\n",
       "      <td>True</td>\n",
       "    </tr>\n",
       "    <tr>\n",
       "      <th>1353400</th>\n",
       "      <td>1</td>\n",
       "      <td>1</td>\n",
       "      <td>24.6</td>\n",
       "      <td>3020</td>\n",
       "      <td>1</td>\n",
       "      <td>32</td>\n",
       "      <td>3</td>\n",
       "      <td>1</td>\n",
       "      <td>N</td>\n",
       "      <td>28</td>\n",
       "      <td>...</td>\n",
       "      <td>True</td>\n",
       "      <td>False</td>\n",
       "      <td>3</td>\n",
       "      <td>1</td>\n",
       "      <td>N</td>\n",
       "      <td>M</td>\n",
       "      <td>9</td>\n",
       "      <td>0.192308</td>\n",
       "      <td>True</td>\n",
       "      <td>False</td>\n",
       "    </tr>\n",
       "  </tbody>\n",
       "</table>\n",
       "<p>10000 rows × 31 columns</p>\n",
       "</div>"
      ],
      "text/plain": [
       "         ATTEND  BFACIL   BMI  DBWT DMAR  FAGECOMB  FEDUC  FRACE6 LD_INDL  \\\n",
       "2780164       1       1  31.4  3670    1        29      6       1       N   \n",
       "1306496       2       1  27.6  3494    1        34      4       1       Y   \n",
       "3027006       1       1  27.1  3374    2        43      2       1       N   \n",
       "903600        1       1  26.8  3520    1        30      3       1       Y   \n",
       "2813944       1       1  21.3  3140    1        30      5       1       N   \n",
       "...         ...     ...   ...   ...  ...       ...    ...     ...     ...   \n",
       "1541267       1       1  35.9  3062    1        30      4       1       Y   \n",
       "1786746       1       1  22.5  3855    1        30      3       1       Y   \n",
       "1928116       1       1  20.4  2710    1        39      2       1       Y   \n",
       "60244         1       1  24.4  3118    1        35      2       1       Y   \n",
       "1353400       1       1  24.6  3020    1        32      3       1       N   \n",
       "\n",
       "         MAGER  ...  PRIORLIVE  PRIORTERM  RDMETH_REC  RESTATUS  RF_CESAR  \\\n",
       "2780164     32  ...      False      False           1         2         N   \n",
       "1306496     33  ...       True      False           1         1         N   \n",
       "3027006     29  ...       True       True           1         1         N   \n",
       "903600      28  ...      False       True           1         1         N   \n",
       "2813944     30  ...      False      False           1         3         N   \n",
       "...        ...  ...        ...        ...         ...       ...       ...   \n",
       "1541267     30  ...       True      False           1         1         N   \n",
       "1786746     23  ...      False      False           3         1         N   \n",
       "1928116     32  ...       True       True           1         2         N   \n",
       "60244       34  ...      False      False           3         2         N   \n",
       "1353400     28  ...       True      False           3         1         N   \n",
       "\n",
       "         SEX  PREG_LEN  WTGAIN_PER    CIG  FIRST_BIRTH  \n",
       "2780164    M         9    0.000000  False         True  \n",
       "1306496    F         9    0.120482  False        False  \n",
       "3027006    M        10    0.061350   True        False  \n",
       "903600     M         9    0.301282  False         True  \n",
       "2813944    M         9    0.208333  False         True  \n",
       "...      ...       ...         ...    ...          ...  \n",
       "1541267    M         9    0.173684  False        False  \n",
       "1786746    M         9    0.263514  False         True  \n",
       "1928116    M         9    0.388889   True        False  \n",
       "60244      M        10    0.147887  False         True  \n",
       "1353400    M         9    0.192308   True        False  \n",
       "\n",
       "[10000 rows x 31 columns]"
      ]
     },
     "execution_count": 10,
     "metadata": {},
     "output_type": "execute_result"
    }
   ],
   "source": [
    "sub_clean_birth"
   ]
  },
  {
   "cell_type": "code",
   "execution_count": 11,
   "metadata": {},
   "outputs": [],
   "source": [
    "sub_clean_birth.to_csv('subsampled_clean_data.csv', index=False)"
   ]
  },
  {
   "cell_type": "markdown",
   "metadata": {},
   "source": [
    "## EDA"
   ]
  },
  {
   "cell_type": "markdown",
   "metadata": {},
   "source": [
    "After acquiring a dataset for analysis, we conduct the Exploratory Data Analysis (EDA) procedure to learn insights about answering our research questions from our data. "
   ]
  },
  {
   "cell_type": "code",
   "execution_count": 12,
   "metadata": {},
   "outputs": [],
   "source": [
    "import numpy as np\n",
    "import pandas as pd\n",
    "import matplotlib.pyplot as plt\n",
    "import seaborn as sns\n",
    "\n",
    "birth = sub_clean_birth"
   ]
  },
  {
   "cell_type": "markdown",
   "id": "3cfb2e21",
   "metadata": {},
   "source": [
    "### Quantitative Variables"
   ]
  },
  {
   "cell_type": "markdown",
   "id": "ad5cbff6",
   "metadata": {},
   "source": [
    "#### Birth Weight – Detail in Grams (DBWT)"
   ]
  },
  {
   "cell_type": "code",
   "execution_count": 13,
   "id": "8b06434e",
   "metadata": {},
   "outputs": [
    {
     "data": {
      "text/plain": [
       "Text(0.5, 1.0, 'Birth Weight-Detail in Grams')"
      ]
     },
     "execution_count": 13,
     "metadata": {},
     "output_type": "execute_result"
    },
    {
     "data": {
      "image/png": "[encoded data removed]",
      "text/plain": [
       "<Figure size 640x480 with 1 Axes>"
      ]
     },
     "metadata": {},
     "output_type": "display_data"
    }
   ],
   "source": [
    "sns.histplot(birth['DBWT'], stat = 'density', kde = True)\n",
    "plt.title(\"Birth Weight-Detail in Grams\")"
   ]
  },
  {
   "cell_type": "code",
   "execution_count": 14,
   "id": "32560dae",
   "metadata": {},
   "outputs": [
    {
     "data": {
      "text/plain": [
       "3291.9113"
      ]
     },
     "execution_count": 14,
     "metadata": {},
     "output_type": "execute_result"
    }
   ],
   "source": [
    "#Mean\n",
    "np.mean(birth['DBWT'])"
   ]
  },
  {
   "cell_type": "code",
   "execution_count": 15,
   "id": "502f15e8",
   "metadata": {},
   "outputs": [
    {
     "data": {
      "text/plain": [
       "578.2338821206432"
      ]
     },
     "execution_count": 15,
     "metadata": {},
     "output_type": "execute_result"
    }
   ],
   "source": [
    "#SD\n",
    "np.std(birth['DBWT'])"
   ]
  },
  {
   "cell_type": "code",
   "execution_count": 16,
   "id": "14b07b09",
   "metadata": {},
   "outputs": [
    {
     "data": {
      "text/plain": [
       "(269, 5570)"
      ]
     },
     "execution_count": 16,
     "metadata": {},
     "output_type": "execute_result"
    }
   ],
   "source": [
    "#min and max\n",
    "np.min(birth['DBWT']), np.max(birth['DBWT'])"
   ]
  },
  {
   "cell_type": "markdown",
   "id": "41376782",
   "metadata": {},
   "source": [
    "From the histogram above, we see that the birth weight is rougly normally distributed with mean = 3292 and standard deviation = 578. We can see that it is slightly skewed to the left, with minimum weight at 269; this is an interesting trend that we can follow up in order to answer our first research question (\"Does smoking cause lower birth weights?\"). Our second research question (\"Predicting a baby's birth weight from Mother’s Single Years of Age and Number of Prenatal Visits, comparing GLMs to nonparametric methods.\") is attempting to predict birth weight, so we can use this histogram to help us perform model checking."
   ]
  },
  {
   "cell_type": "markdown",
   "id": "5d7679f6",
   "metadata": {},
   "source": [
    "## Mother’s Single Years of Age (MAGER)"
   ]
  },
  {
   "cell_type": "code",
   "execution_count": 17,
   "id": "f9534c11",
   "metadata": {},
   "outputs": [
    {
     "data": {
      "text/plain": [
       "Text(0.5, 1.0, \"Mother's Single Years of Age\")"
      ]
     },
     "execution_count": 17,
     "metadata": {},
     "output_type": "execute_result"
    },
    {
     "data": {
      "image/png": "[encoded data removed]",
      "text/plain": [
       "<Figure size 640x480 with 1 Axes>"
      ]
     },
     "metadata": {},
     "output_type": "display_data"
    }
   ],
   "source": [
    "sns.histplot(birth['MAGER'], stat = 'density')\n",
    "plt.title(\"Mother's Single Years of Age\")"
   ]
  },
  {
   "cell_type": "code",
   "execution_count": 18,
   "id": "90257487",
   "metadata": {},
   "outputs": [
    {
     "data": {
      "text/plain": [
       "29.5224"
      ]
     },
     "execution_count": 18,
     "metadata": {},
     "output_type": "execute_result"
    }
   ],
   "source": [
    "#Mean\n",
    "np.mean(birth['MAGER'])"
   ]
  },
  {
   "cell_type": "code",
   "execution_count": 19,
   "id": "cf905a38",
   "metadata": {},
   "outputs": [
    {
     "data": {
      "text/plain": [
       "5.578216403116681"
      ]
     },
     "execution_count": 19,
     "metadata": {},
     "output_type": "execute_result"
    }
   ],
   "source": [
    "#SD\n",
    "np.std(birth['MAGER'])"
   ]
  },
  {
   "cell_type": "code",
   "execution_count": 20,
   "id": "70c2a4ed",
   "metadata": {},
   "outputs": [
    {
     "data": {
      "text/plain": [
       "(15, 50)"
      ]
     },
     "execution_count": 20,
     "metadata": {},
     "output_type": "execute_result"
    }
   ],
   "source": [
    "#min and max\n",
    "np.min(birth['MAGER']), np.max(birth['MAGER'])"
   ]
  },
  {
   "cell_type": "markdown",
   "id": "dae014af",
   "metadata": {},
   "source": [
    "From the histogram above, we see that the mother's age is rougly normally distributed as well with mean around 19.5 and standard deviation around 5.6. We can see that it is slightly skewed to the right, with maximum age at 50; this is an interesting trend that we can follow up for our second research question (\"Predicting a baby's birth weight from Mother’s Single Years of Age and Number of Prenatal Visits, comparing GLMs to nonparametric methods.\"). We can use this to help us answer if older mother is likely to have babies with lighter birth weights."
   ]
  },
  {
   "cell_type": "markdown",
   "id": "308f01e0",
   "metadata": {},
   "source": [
    "## Number of Prenatal Visits - PREVIS"
   ]
  },
  {
   "cell_type": "code",
   "execution_count": 21,
   "id": "5e25ffb3",
   "metadata": {},
   "outputs": [
    {
     "data": {
      "text/plain": [
       "Text(0.5, 1.0, 'Number of Prenatal Visits')"
      ]
     },
     "execution_count": 21,
     "metadata": {},
     "output_type": "execute_result"
    },
    {
     "data": {
      "image/png": "[encoded data removed]",
      "text/plain": [
       "<Figure size 640x480 with 1 Axes>"
      ]
     },
     "metadata": {},
     "output_type": "display_data"
    }
   ],
   "source": [
    "sns.histplot(birth['PREVIS'], stat = 'density')\n",
    "plt.title(\"Number of Prenatal Visits\")"
   ]
  },
  {
   "cell_type": "code",
   "execution_count": 22,
   "id": "7c2c7665",
   "metadata": {},
   "outputs": [
    {
     "data": {
      "text/plain": [
       "11.647"
      ]
     },
     "execution_count": 22,
     "metadata": {},
     "output_type": "execute_result"
    }
   ],
   "source": [
    "#Mean\n",
    "np.mean(birth['PREVIS'])"
   ]
  },
  {
   "cell_type": "code",
   "execution_count": 23,
   "id": "8ba582cc",
   "metadata": {},
   "outputs": [
    {
     "data": {
      "text/plain": [
       "3.957093756786665"
      ]
     },
     "execution_count": 23,
     "metadata": {},
     "output_type": "execute_result"
    }
   ],
   "source": [
    "#SD\n",
    "np.std(birth['PREVIS'])"
   ]
  },
  {
   "cell_type": "code",
   "execution_count": 24,
   "id": "59aaa8a6",
   "metadata": {},
   "outputs": [
    {
     "data": {
      "text/plain": [
       "(0, 49)"
      ]
     },
     "execution_count": 24,
     "metadata": {},
     "output_type": "execute_result"
    }
   ],
   "source": [
    "#min and max\n",
    "np.min(birth['PREVIS']), np.max(birth['PREVIS'])"
   ]
  },
  {
   "cell_type": "markdown",
   "id": "70ec7442",
   "metadata": {},
   "source": [
    "From the histogram above, we see that the number of prenatal visits is rougly normally distributed with mean around 11.65 and standard deviation around 3.96. We can see that there is an outlier in the data: one family has 49 prenatal visits. This is an interesting observation for our research question. We can use this to help us answer if more prenatal visits is likely to increase a baby's birth weights."
   ]
  },
  {
   "cell_type": "markdown",
   "id": "58afe960",
   "metadata": {},
   "source": [
    "# Categorical Variables"
   ]
  },
  {
   "cell_type": "markdown",
   "id": "04530d8a",
   "metadata": {},
   "source": [
    "## Smoking Before Pregnancy - CIG"
   ]
  },
  {
   "cell_type": "markdown",
   "id": "9fe44f89",
   "metadata": {},
   "source": [
    "As we have done in `preprocessing.ipynb`, the number of cigarettes before pregnancy (CIG-0) is binarized into `True` (having greater than or equal to 1 cigarette) and `False` (not having any cigarettes). "
   ]
  },
  {
   "cell_type": "code",
   "execution_count": 25,
   "id": "ec4fff4b",
   "metadata": {},
   "outputs": [
    {
     "data": {
      "text/plain": [
       "Text(0.5, 1.0, 'Smoking Before Pregnancy')"
      ]
     },
     "execution_count": 25,
     "metadata": {},
     "output_type": "execute_result"
    },
    {
     "data": {
      "image/png": "[encoded data removed]",
      "text/plain": [
       "<Figure size 640x480 with 1 Axes>"
      ]
     },
     "metadata": {},
     "output_type": "display_data"
    }
   ],
   "source": [
    "sns.countplot(x = birth['CIG'])\n",
    "plt.title(\"Smoking Before Pregnancy\")"
   ]
  },
  {
   "cell_type": "code",
   "execution_count": 26,
   "id": "dc519096",
   "metadata": {},
   "outputs": [
    {
     "data": {
      "text/plain": [
       "682"
      ]
     },
     "execution_count": 26,
     "metadata": {},
     "output_type": "execute_result"
    }
   ],
   "source": [
    "#Number of Smokers\n",
    "np.sum(birth['CIG'] == 1)"
   ]
  },
  {
   "cell_type": "code",
   "execution_count": 27,
   "id": "fdce60ad",
   "metadata": {},
   "outputs": [
    {
     "data": {
      "text/plain": [
       "9318"
      ]
     },
     "execution_count": 27,
     "metadata": {},
     "output_type": "execute_result"
    }
   ],
   "source": [
    "#Number of Non-smokers\n",
    "np.sum(birth['CIG'] == 0)"
   ]
  },
  {
   "cell_type": "code",
   "execution_count": 28,
   "id": "b5c88fd4",
   "metadata": {},
   "outputs": [
    {
     "data": {
      "text/plain": [
       "False    0.9318\n",
       "True     0.0682\n",
       "Name: CIG, dtype: float64"
      ]
     },
     "execution_count": 28,
     "metadata": {},
     "output_type": "execute_result"
    }
   ],
   "source": [
    "#Percentage of each category\n",
    "freq = birth['CIG'].value_counts()\n",
    "perc = freq/sum(freq)\n",
    "perc"
   ]
  },
  {
   "cell_type": "markdown",
   "id": "53415787",
   "metadata": {},
   "source": [
    "From the Bar Chart above, we can see that 93.18% of mother don't smoke before pregnancy, while 6.82% do smoke. The significant difference between number of smokers and non-smokers is something we need to take into account when analyzing the effect of smoking on baby weights. This data will help us addresss our first research question (\"Does smoking cause lower birth weights?\")."
   ]
  },
  {
   "cell_type": "markdown",
   "id": "8d34a3eb",
   "metadata": {},
   "source": [
    "## First Birth - FIRST_BIRTH"
   ]
  },
  {
   "cell_type": "markdown",
   "id": "f38ec52b",
   "metadata": {},
   "source": [
    "As we have done in `preprocessing.ipynb`, the time interval since last other pregnancy (ILLB_R) is binarized into `True` (the babt is the first child) and `False` (not being the first child)."
   ]
  },
  {
   "cell_type": "code",
   "execution_count": 29,
   "id": "bc8bfd40",
   "metadata": {},
   "outputs": [
    {
     "data": {
      "text/plain": [
       "Text(0.5, 1.0, 'First Birth Child')"
      ]
     },
     "execution_count": 29,
     "metadata": {},
     "output_type": "execute_result"
    },
    {
     "data": {
      "image/png": "[encoded data removed]",
      "text/plain": [
       "<Figure size 640x480 with 1 Axes>"
      ]
     },
     "metadata": {},
     "output_type": "display_data"
    }
   ],
   "source": [
    "sns.countplot(x = birth['FIRST_BIRTH'])\n",
    "plt.title(\"First Birth Child\")"
   ]
  },
  {
   "cell_type": "code",
   "execution_count": 30,
   "id": "1d8cdd33",
   "metadata": {},
   "outputs": [
    {
     "data": {
      "text/plain": [
       "3823"
      ]
     },
     "execution_count": 30,
     "metadata": {},
     "output_type": "execute_result"
    }
   ],
   "source": [
    "#Number of First Birth\n",
    "np.sum(birth['FIRST_BIRTH'] == 1)"
   ]
  },
  {
   "cell_type": "code",
   "execution_count": 31,
   "id": "62e82f2c",
   "metadata": {},
   "outputs": [
    {
     "data": {
      "text/plain": [
       "6177"
      ]
     },
     "execution_count": 31,
     "metadata": {},
     "output_type": "execute_result"
    }
   ],
   "source": [
    "#Number of None First Birth\n",
    "np.sum(birth['FIRST_BIRTH'] == 0)"
   ]
  },
  {
   "cell_type": "code",
   "execution_count": 32,
   "id": "5c1b0fec",
   "metadata": {},
   "outputs": [
    {
     "data": {
      "text/plain": [
       "False    0.6177\n",
       "True     0.3823\n",
       "Name: FIRST_BIRTH, dtype: float64"
      ]
     },
     "execution_count": 32,
     "metadata": {},
     "output_type": "execute_result"
    }
   ],
   "source": [
    "#Percentage of each category\n",
    "freq = birth['FIRST_BIRTH'].value_counts()\n",
    "perc = freq/sum(freq)\n",
    "perc"
   ]
  },
  {
   "cell_type": "markdown",
   "id": "7122c83e",
   "metadata": {},
   "source": [
    "From the Bar Chart above, we can see that there are more families giving birth to their non-first child than their first child: 61.77% of family has already have one or more than one babies, while 38.23% gives birth to their first child. This helps us investigate the effect of being the first-born on birth weights as it could be a potential useful feature to predict baby weights."
   ]
  },
  {
   "cell_type": "markdown",
   "id": "a58d6791",
   "metadata": {},
   "source": [
    "## Sex of Infant - SEX"
   ]
  },
  {
   "cell_type": "code",
   "execution_count": 33,
   "id": "7801adca",
   "metadata": {},
   "outputs": [
    {
     "data": {
      "text/plain": [
       "Text(0.5, 1.0, \"Babies' Biological Gender\")"
      ]
     },
     "execution_count": 33,
     "metadata": {},
     "output_type": "execute_result"
    },
    {
     "data": {
      "image/png": "[encoded data removed]",
      "text/plain": [
       "<Figure size 640x480 with 1 Axes>"
      ]
     },
     "metadata": {},
     "output_type": "display_data"
    }
   ],
   "source": [
    "sns.countplot(x = birth['SEX'])\n",
    "plt.title(\"Babies' Biological Gender\")"
   ]
  },
  {
   "cell_type": "code",
   "execution_count": 34,
   "id": "9d00f7c3",
   "metadata": {},
   "outputs": [
    {
     "data": {
      "text/plain": [
       "5119"
      ]
     },
     "execution_count": 34,
     "metadata": {},
     "output_type": "execute_result"
    }
   ],
   "source": [
    "#Number of Males\n",
    "np.sum(birth['SEX'] == 'M')"
   ]
  },
  {
   "cell_type": "code",
   "execution_count": 35,
   "id": "0892ff92",
   "metadata": {},
   "outputs": [
    {
     "data": {
      "text/plain": [
       "4881"
      ]
     },
     "execution_count": 35,
     "metadata": {},
     "output_type": "execute_result"
    }
   ],
   "source": [
    "#Number of Females\n",
    "np.sum(birth['SEX'] == 'F')"
   ]
  },
  {
   "cell_type": "code",
   "execution_count": 36,
   "id": "e324e7e4",
   "metadata": {},
   "outputs": [
    {
     "data": {
      "text/plain": [
       "M    0.5119\n",
       "F    0.4881\n",
       "Name: SEX, dtype: float64"
      ]
     },
     "execution_count": 36,
     "metadata": {},
     "output_type": "execute_result"
    }
   ],
   "source": [
    "#Percentage of each category\n",
    "freq = birth['SEX'].value_counts()\n",
    "perc = freq/sum(freq)\n",
    "perc"
   ]
  },
  {
   "cell_type": "markdown",
   "id": "8bd50212",
   "metadata": {},
   "source": [
    "From the bar chat above, we can see that there isn't a big difference between the number of female babies and the number of male babies, with 51.19% of them as males and 48.81% of them being females. The biological sex of a baby is a useful feature that may influece a baby's birth weight."
   ]
  },
  {
   "cell_type": "markdown",
   "metadata": {},
   "source": []
  }
 ],
 "metadata": {
  "kernelspec": {
   "display_name": "Python 3.11.0 ('birth')",
   "language": "python",
   "name": "python3"
  },
  "language_info": {
   "codemirror_mode": {
    "name": "ipython",
    "version": 3
   },
   "file_extension": ".py",
   "mimetype": "text/x-python",
   "name": "python",
   "nbconvert_exporter": "python",
   "pygments_lexer": "ipython3",
   "version": "3.10.8"
  },
  "orig_nbformat": 4,
  "vscode": {
   "interpreter": {
    "hash": "0e72c3fea10318a6098a8ed63ab023d6015358e09bf02390fd1e0c62964472b9"
   }
  }
 },
 "nbformat": 4,
 "nbformat_minor": 2
}

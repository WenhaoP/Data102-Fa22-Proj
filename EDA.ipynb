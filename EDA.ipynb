{
 "cells": [
  {
   "cell_type": "code",
   "execution_count": 1,
   "id": "e3873bb8",
   "metadata": {},
   "outputs": [],
   "source": [
    "import numpy as np\n",
    "import pandas as pd\n",
    "import matplotlib.pyplot as plt\n",
    "import seaborn as sns"
   ]
  },
  {
   "cell_type": "code",
   "execution_count": 2,
   "id": "8534dfcf",
   "metadata": {},
   "outputs": [],
   "source": [
    "birth = pd.read_csv('subsampled_clean_data.csv')"
   ]
  },
  {
   "cell_type": "code",
   "execution_count": 3,
   "id": "5e760690",
   "metadata": {},
   "outputs": [
    {
     "data": {
      "text/html": [
       "<div>\n",
       "<style scoped>\n",
       "    .dataframe tbody tr th:only-of-type {\n",
       "        vertical-align: middle;\n",
       "    }\n",
       "\n",
       "    .dataframe tbody tr th {\n",
       "        vertical-align: top;\n",
       "    }\n",
       "\n",
       "    .dataframe thead th {\n",
       "        text-align: right;\n",
       "    }\n",
       "</style>\n",
       "<table border=\"1\" class=\"dataframe\">\n",
       "  <thead>\n",
       "    <tr style=\"text-align: right;\">\n",
       "      <th></th>\n",
       "      <th>Unnamed: 0</th>\n",
       "      <th>ATTEND</th>\n",
       "      <th>BFACIL</th>\n",
       "      <th>BMI</th>\n",
       "      <th>DBWT</th>\n",
       "      <th>DMAR</th>\n",
       "      <th>FAGECOMB</th>\n",
       "      <th>FEDUC</th>\n",
       "      <th>FRACE6</th>\n",
       "      <th>LD_INDL</th>\n",
       "      <th>...</th>\n",
       "      <th>PRIORLIVE</th>\n",
       "      <th>PRIORTERM</th>\n",
       "      <th>RDMETH_REC</th>\n",
       "      <th>RESTATUS</th>\n",
       "      <th>RF_CESAR</th>\n",
       "      <th>SEX</th>\n",
       "      <th>PREG_LEN</th>\n",
       "      <th>WTGAIN_PER</th>\n",
       "      <th>CIG</th>\n",
       "      <th>FIRST_BIRTH</th>\n",
       "    </tr>\n",
       "  </thead>\n",
       "  <tbody>\n",
       "    <tr>\n",
       "      <th>0</th>\n",
       "      <td>2780164</td>\n",
       "      <td>1</td>\n",
       "      <td>1</td>\n",
       "      <td>31.4</td>\n",
       "      <td>3670</td>\n",
       "      <td>1</td>\n",
       "      <td>29</td>\n",
       "      <td>6</td>\n",
       "      <td>1</td>\n",
       "      <td>N</td>\n",
       "      <td>...</td>\n",
       "      <td>False</td>\n",
       "      <td>False</td>\n",
       "      <td>1</td>\n",
       "      <td>2</td>\n",
       "      <td>N</td>\n",
       "      <td>M</td>\n",
       "      <td>9</td>\n",
       "      <td>0.000000</td>\n",
       "      <td>False</td>\n",
       "      <td>True</td>\n",
       "    </tr>\n",
       "    <tr>\n",
       "      <th>1</th>\n",
       "      <td>1306496</td>\n",
       "      <td>2</td>\n",
       "      <td>1</td>\n",
       "      <td>27.6</td>\n",
       "      <td>3494</td>\n",
       "      <td>1</td>\n",
       "      <td>34</td>\n",
       "      <td>4</td>\n",
       "      <td>1</td>\n",
       "      <td>Y</td>\n",
       "      <td>...</td>\n",
       "      <td>True</td>\n",
       "      <td>False</td>\n",
       "      <td>1</td>\n",
       "      <td>1</td>\n",
       "      <td>N</td>\n",
       "      <td>F</td>\n",
       "      <td>9</td>\n",
       "      <td>0.120482</td>\n",
       "      <td>False</td>\n",
       "      <td>False</td>\n",
       "    </tr>\n",
       "    <tr>\n",
       "      <th>2</th>\n",
       "      <td>3027006</td>\n",
       "      <td>1</td>\n",
       "      <td>1</td>\n",
       "      <td>27.1</td>\n",
       "      <td>3374</td>\n",
       "      <td>2</td>\n",
       "      <td>43</td>\n",
       "      <td>2</td>\n",
       "      <td>1</td>\n",
       "      <td>N</td>\n",
       "      <td>...</td>\n",
       "      <td>True</td>\n",
       "      <td>True</td>\n",
       "      <td>1</td>\n",
       "      <td>1</td>\n",
       "      <td>N</td>\n",
       "      <td>M</td>\n",
       "      <td>10</td>\n",
       "      <td>0.061350</td>\n",
       "      <td>True</td>\n",
       "      <td>False</td>\n",
       "    </tr>\n",
       "    <tr>\n",
       "      <th>3</th>\n",
       "      <td>903600</td>\n",
       "      <td>1</td>\n",
       "      <td>1</td>\n",
       "      <td>26.8</td>\n",
       "      <td>3520</td>\n",
       "      <td>1</td>\n",
       "      <td>30</td>\n",
       "      <td>3</td>\n",
       "      <td>1</td>\n",
       "      <td>Y</td>\n",
       "      <td>...</td>\n",
       "      <td>False</td>\n",
       "      <td>True</td>\n",
       "      <td>1</td>\n",
       "      <td>1</td>\n",
       "      <td>N</td>\n",
       "      <td>M</td>\n",
       "      <td>9</td>\n",
       "      <td>0.301282</td>\n",
       "      <td>False</td>\n",
       "      <td>True</td>\n",
       "    </tr>\n",
       "    <tr>\n",
       "      <th>4</th>\n",
       "      <td>2813944</td>\n",
       "      <td>1</td>\n",
       "      <td>1</td>\n",
       "      <td>21.3</td>\n",
       "      <td>3140</td>\n",
       "      <td>1</td>\n",
       "      <td>30</td>\n",
       "      <td>5</td>\n",
       "      <td>1</td>\n",
       "      <td>N</td>\n",
       "      <td>...</td>\n",
       "      <td>False</td>\n",
       "      <td>False</td>\n",
       "      <td>1</td>\n",
       "      <td>3</td>\n",
       "      <td>N</td>\n",
       "      <td>M</td>\n",
       "      <td>9</td>\n",
       "      <td>0.208333</td>\n",
       "      <td>False</td>\n",
       "      <td>True</td>\n",
       "    </tr>\n",
       "  </tbody>\n",
       "</table>\n",
       "<p>5 rows × 32 columns</p>\n",
       "</div>"
      ],
      "text/plain": [
       "   Unnamed: 0  ATTEND  BFACIL   BMI  DBWT DMAR  FAGECOMB  FEDUC  FRACE6  \\\n",
       "0     2780164       1       1  31.4  3670    1        29      6       1   \n",
       "1     1306496       2       1  27.6  3494    1        34      4       1   \n",
       "2     3027006       1       1  27.1  3374    2        43      2       1   \n",
       "3      903600       1       1  26.8  3520    1        30      3       1   \n",
       "4     2813944       1       1  21.3  3140    1        30      5       1   \n",
       "\n",
       "  LD_INDL  ...  PRIORLIVE  PRIORTERM  RDMETH_REC  RESTATUS  RF_CESAR  SEX  \\\n",
       "0       N  ...      False      False           1         2         N    M   \n",
       "1       Y  ...       True      False           1         1         N    F   \n",
       "2       N  ...       True       True           1         1         N    M   \n",
       "3       Y  ...      False       True           1         1         N    M   \n",
       "4       N  ...      False      False           1         3         N    M   \n",
       "\n",
       "   PREG_LEN  WTGAIN_PER    CIG  FIRST_BIRTH  \n",
       "0         9    0.000000  False         True  \n",
       "1         9    0.120482  False        False  \n",
       "2        10    0.061350   True        False  \n",
       "3         9    0.301282  False         True  \n",
       "4         9    0.208333  False         True  \n",
       "\n",
       "[5 rows x 32 columns]"
      ]
     },
     "execution_count": 3,
     "metadata": {},
     "output_type": "execute_result"
    }
   ],
   "source": [
    "birth.head()"
   ]
  },
  {
   "cell_type": "markdown",
   "id": "8b12f890",
   "metadata": {},
   "source": [
    "Tasks:\n",
    "1.  Visualize at least two quantitative variables and two categorical variables. Your visualizations must be relevant to your research questions!\n",
    "2.  Describe any trends you observe, and any relationships you may want to follow up on.\n",
    "3. Describe any data cleaning steps you took. How will these decisions impact your models and inferences? (This is in preprocessing.ipynb)\n",
    "4.  Explain how your visualizations should be relevant to your research questions: either by motivating the question, or suggesting a potential answer. You must explain why they are relevant."
   ]
  },
  {
   "cell_type": "markdown",
   "id": "3cfb2e21",
   "metadata": {},
   "source": [
    "# Quantitative Variables"
   ]
  },
  {
   "cell_type": "markdown",
   "id": "ad5cbff6",
   "metadata": {},
   "source": [
    "## Birth Weight – Detail in Grams (DBWT)"
   ]
  },
  {
   "cell_type": "code",
   "execution_count": 59,
   "id": "8b06434e",
   "metadata": {},
   "outputs": [
    {
     "data": {
      "text/plain": [
       "Text(0.5, 1.0, 'Birth Weight-Detail in Grams')"
      ]
     },
     "execution_count": 59,
     "metadata": {},
     "output_type": "execute_result"
    },
    {
     "data": {
      "image/png": "[encoded data removed]",
      "text/plain": [
       "<Figure size 432x288 with 1 Axes>"
      ]
     },
     "metadata": {
      "needs_background": "light"
     },
     "output_type": "display_data"
    }
   ],
   "source": [
    "sns.histplot(birth['DBWT'], stat = 'density', kde = True)\n",
    "plt.title(\"Birth Weight-Detail in Grams\")"
   ]
  },
  {
   "cell_type": "code",
   "execution_count": 60,
   "id": "32560dae",
   "metadata": {},
   "outputs": [
    {
     "data": {
      "text/plain": [
       "3291.9113"
      ]
     },
     "execution_count": 60,
     "metadata": {},
     "output_type": "execute_result"
    }
   ],
   "source": [
    "#Mean\n",
    "np.mean(birth['DBWT'])"
   ]
  },
  {
   "cell_type": "code",
   "execution_count": 61,
   "id": "502f15e8",
   "metadata": {},
   "outputs": [
    {
     "data": {
      "text/plain": [
       "578.2338821206437"
      ]
     },
     "execution_count": 61,
     "metadata": {},
     "output_type": "execute_result"
    }
   ],
   "source": [
    "#SD\n",
    "np.std(birth['DBWT'])"
   ]
  },
  {
   "cell_type": "code",
   "execution_count": 62,
   "id": "14b07b09",
   "metadata": {},
   "outputs": [
    {
     "data": {
      "text/plain": [
       "(269, 5570)"
      ]
     },
     "execution_count": 62,
     "metadata": {},
     "output_type": "execute_result"
    }
   ],
   "source": [
    "#min and max\n",
    "np.min(birth['DBWT']), np.max(birth['DBWT'])"
   ]
  },
  {
   "cell_type": "markdown",
   "id": "41376782",
   "metadata": {},
   "source": [
    "From the histogram above, we see that the birth weight is rougly normally distributed with mean = 3292 and standard deviation = 578. We can see that it is slightly skewed to the left, with minimum weight at 269; this is an interesting trend that we can follow up in order to answer our first research question (\"Does smoking cause lower birth weights?\"). Our second research question (\"Predicting a baby's birth weight from Mother’s Single Years of Age and Number of Prenatal Visits, comparing GLMs to nonparametric methods.\") is attempting to predict birth weight, so we can use this histogram to help us perform model checking."
   ]
  },
  {
   "cell_type": "markdown",
   "id": "5d7679f6",
   "metadata": {},
   "source": [
    "## Mother’s Single Years of Age (MAGER)"
   ]
  },
  {
   "cell_type": "code",
   "execution_count": 63,
   "id": "f9534c11",
   "metadata": {},
   "outputs": [
    {
     "data": {
      "text/plain": [
       "Text(0.5, 1.0, \"Mother's Single Years of Age\")"
      ]
     },
     "execution_count": 63,
     "metadata": {},
     "output_type": "execute_result"
    },
    {
     "data": {
      "image/png": "[encoded data removed]",
      "text/plain": [
       "<Figure size 432x288 with 1 Axes>"
      ]
     },
     "metadata": {
      "needs_background": "light"
     },
     "output_type": "display_data"
    }
   ],
   "source": [
    "sns.histplot(birth['MAGER'], stat = 'density')\n",
    "plt.title(\"Mother's Single Years of Age\")"
   ]
  },
  {
   "cell_type": "code",
   "execution_count": 64,
   "id": "90257487",
   "metadata": {},
   "outputs": [
    {
     "data": {
      "text/plain": [
       "29.5224"
      ]
     },
     "execution_count": 64,
     "metadata": {},
     "output_type": "execute_result"
    }
   ],
   "source": [
    "#Mean\n",
    "np.mean(birth['MAGER'])"
   ]
  },
  {
   "cell_type": "code",
   "execution_count": 65,
   "id": "cf905a38",
   "metadata": {},
   "outputs": [
    {
     "data": {
      "text/plain": [
       "5.5782164031166985"
      ]
     },
     "execution_count": 65,
     "metadata": {},
     "output_type": "execute_result"
    }
   ],
   "source": [
    "#SD\n",
    "np.std(birth['MAGER'])"
   ]
  },
  {
   "cell_type": "code",
   "execution_count": 66,
   "id": "70c2a4ed",
   "metadata": {},
   "outputs": [
    {
     "data": {
      "text/plain": [
       "(15, 50)"
      ]
     },
     "execution_count": 66,
     "metadata": {},
     "output_type": "execute_result"
    }
   ],
   "source": [
    "#min and max\n",
    "np.min(birth['MAGER']), np.max(birth['MAGER'])"
   ]
  },
  {
   "cell_type": "markdown",
   "id": "dae014af",
   "metadata": {},
   "source": [
    "From the histogram above, we see that the mother's age is rougly normally distributed as well with mean around 19.5 and standard deviation around 5.6. We can see that it is slightly skewed to the right, with maximum age at 50; this is an interesting trend that we can follow up for our second research question (\"Predicting a baby's birth weight from Mother’s Single Years of Age and Number of Prenatal Visits, comparing GLMs to nonparametric methods.\"). We can use this to help us answer if older mother is likely to have babies with lighter birth weights."
   ]
  },
  {
   "cell_type": "markdown",
   "id": "308f01e0",
   "metadata": {},
   "source": [
    "## Number of Prenatal Visits - PREVIS"
   ]
  },
  {
   "cell_type": "code",
   "execution_count": 70,
   "id": "5e25ffb3",
   "metadata": {},
   "outputs": [
    {
     "data": {
      "text/plain": [
       "Text(0.5, 1.0, 'Number of Prenatal Visits')"
      ]
     },
     "execution_count": 70,
     "metadata": {},
     "output_type": "execute_result"
    },
    {
     "data": {
      "image/png": "[encoded data removed]",
      "text/plain": [
       "<Figure size 432x288 with 1 Axes>"
      ]
     },
     "metadata": {
      "needs_background": "light"
     },
     "output_type": "display_data"
    }
   ],
   "source": [
    "sns.histplot(birth['PREVIS'], stat = 'density')\n",
    "plt.title(\"Number of Prenatal Visits\")"
   ]
  },
  {
   "cell_type": "code",
   "execution_count": 71,
   "id": "7c2c7665",
   "metadata": {},
   "outputs": [
    {
     "data": {
      "text/plain": [
       "11.647"
      ]
     },
     "execution_count": 71,
     "metadata": {},
     "output_type": "execute_result"
    }
   ],
   "source": [
    "#Mean\n",
    "np.mean(birth['PREVIS'])"
   ]
  },
  {
   "cell_type": "code",
   "execution_count": 72,
   "id": "8ba582cc",
   "metadata": {},
   "outputs": [
    {
     "data": {
      "text/plain": [
       "3.9570937567866395"
      ]
     },
     "execution_count": 72,
     "metadata": {},
     "output_type": "execute_result"
    }
   ],
   "source": [
    "#SD\n",
    "np.std(birth['PREVIS'])"
   ]
  },
  {
   "cell_type": "code",
   "execution_count": 57,
   "id": "59aaa8a6",
   "metadata": {},
   "outputs": [
    {
     "data": {
      "text/plain": [
       "(0, 49)"
      ]
     },
     "execution_count": 57,
     "metadata": {},
     "output_type": "execute_result"
    }
   ],
   "source": [
    "#min and max\n",
    "np.min(birth['PREVIS']), np.max(birth['PREVIS'])"
   ]
  },
  {
   "cell_type": "markdown",
   "id": "70ec7442",
   "metadata": {},
   "source": [
    "From the histogram above, we see that the number of prenatal visits is rougly normally distributed with mean around 11.65 and standard deviation around 3.96. We can see that there is an outlier in the data: one family has 49 prenatal visits. This is an interesting observation for our research question. We can use this to help us answer if more prenatal visits is likely to increase a baby's birth weights."
   ]
  },
  {
   "cell_type": "markdown",
   "id": "58afe960",
   "metadata": {},
   "source": [
    "# Categorical Variables"
   ]
  },
  {
   "cell_type": "markdown",
   "id": "04530d8a",
   "metadata": {},
   "source": [
    "## Smoking Before Pregnancy - CIG"
   ]
  },
  {
   "cell_type": "markdown",
   "id": "9fe44f89",
   "metadata": {},
   "source": [
    "As we have done in `preprocessing.ipynb`, the number of cigarettes before pregnancy (CIG-0) is binarized into `True` (having greater than or equal to 1 cigarette) and `False` (not having any cigarettes). "
   ]
  },
  {
   "cell_type": "code",
   "execution_count": 73,
   "id": "ec4fff4b",
   "metadata": {},
   "outputs": [
    {
     "data": {
      "text/plain": [
       "Text(0.5, 1.0, 'Smoking Before Pregnancy')"
      ]
     },
     "execution_count": 73,
     "metadata": {},
     "output_type": "execute_result"
    },
    {
     "data": {
      "image/png": "[encoded data removed]",
      "text/plain": [
       "<Figure size 432x288 with 1 Axes>"
      ]
     },
     "metadata": {
      "needs_background": "light"
     },
     "output_type": "display_data"
    }
   ],
   "source": [
    "sns.countplot(x = birth['CIG'])\n",
    "plt.title(\"Smoking Before Pregnancy\")"
   ]
  },
  {
   "cell_type": "code",
   "execution_count": 13,
   "id": "dc519096",
   "metadata": {},
   "outputs": [
    {
     "data": {
      "text/plain": [
       "682"
      ]
     },
     "execution_count": 13,
     "metadata": {},
     "output_type": "execute_result"
    }
   ],
   "source": [
    "#Number of Smokers\n",
    "np.sum(birth['CIG'] == 1)"
   ]
  },
  {
   "cell_type": "code",
   "execution_count": 14,
   "id": "fdce60ad",
   "metadata": {},
   "outputs": [
    {
     "data": {
      "text/plain": [
       "9318"
      ]
     },
     "execution_count": 14,
     "metadata": {},
     "output_type": "execute_result"
    }
   ],
   "source": [
    "#Number of Non-smokers\n",
    "np.sum(birth['CIG'] == 0)"
   ]
  },
  {
   "cell_type": "code",
   "execution_count": 42,
   "id": "b5c88fd4",
   "metadata": {},
   "outputs": [
    {
     "data": {
      "text/plain": [
       "False    0.9318\n",
       "True     0.0682\n",
       "Name: CIG, dtype: float64"
      ]
     },
     "execution_count": 42,
     "metadata": {},
     "output_type": "execute_result"
    }
   ],
   "source": [
    "#Percentage of each category\n",
    "freq = birth['CIG'].value_counts()\n",
    "perc = freq/sum(freq)\n",
    "perc"
   ]
  },
  {
   "cell_type": "markdown",
   "id": "53415787",
   "metadata": {},
   "source": [
    "From the Bar Chart above, we can see that 93.18% of mother don't smoke before pregnancy, while 6.82% do smoke. The significant difference between number of smokers and non-smokers is something we need to take into account when analyzing the effect of smoking on baby weights. This data will help us addresss our first research question (\"Does smoking cause lower birth weights?\")."
   ]
  },
  {
   "cell_type": "markdown",
   "id": "8d34a3eb",
   "metadata": {},
   "source": [
    "## First Birth - FIRST_BIRTH"
   ]
  },
  {
   "cell_type": "markdown",
   "id": "f38ec52b",
   "metadata": {},
   "source": [
    "As we have done in `preprocessing.ipynb`, the time interval since last other pregnancy (ILLB_R) is binarized into `True` (the babt is the first child) and `False` (not being the first child)."
   ]
  },
  {
   "cell_type": "code",
   "execution_count": 74,
   "id": "bc8bfd40",
   "metadata": {},
   "outputs": [
    {
     "data": {
      "text/plain": [
       "Text(0.5, 1.0, 'First Birth Child')"
      ]
     },
     "execution_count": 74,
     "metadata": {},
     "output_type": "execute_result"
    },
    {
     "data": {
      "image/png": "[encoded data removed]",
      "text/plain": [
       "<Figure size 432x288 with 1 Axes>"
      ]
     },
     "metadata": {
      "needs_background": "light"
     },
     "output_type": "display_data"
    }
   ],
   "source": [
    "sns.countplot(x = birth['FIRST_BIRTH'])\n",
    "plt.title(\"First Birth Child\")"
   ]
  },
  {
   "cell_type": "code",
   "execution_count": 44,
   "id": "1d8cdd33",
   "metadata": {},
   "outputs": [
    {
     "data": {
      "text/plain": [
       "3823"
      ]
     },
     "execution_count": 44,
     "metadata": {},
     "output_type": "execute_result"
    }
   ],
   "source": [
    "#Number of First Birth\n",
    "np.sum(birth['FIRST_BIRTH'] == 1)"
   ]
  },
  {
   "cell_type": "code",
   "execution_count": 45,
   "id": "62e82f2c",
   "metadata": {},
   "outputs": [
    {
     "data": {
      "text/plain": [
       "6177"
      ]
     },
     "execution_count": 45,
     "metadata": {},
     "output_type": "execute_result"
    }
   ],
   "source": [
    "#Number of None First Birth\n",
    "np.sum(birth['FIRST_BIRTH'] == 0)"
   ]
  },
  {
   "cell_type": "code",
   "execution_count": 46,
   "id": "5c1b0fec",
   "metadata": {},
   "outputs": [
    {
     "data": {
      "text/plain": [
       "False    0.6177\n",
       "True     0.3823\n",
       "Name: FIRST_BIRTH, dtype: float64"
      ]
     },
     "execution_count": 46,
     "metadata": {},
     "output_type": "execute_result"
    }
   ],
   "source": [
    "#Percentage of each category\n",
    "freq = birth['FIRST_BIRTH'].value_counts()\n",
    "perc = freq/sum(freq)\n",
    "perc"
   ]
  },
  {
   "cell_type": "markdown",
   "id": "7122c83e",
   "metadata": {},
   "source": [
    "From the Bar Chart above, we can see that there are more families giving birth to their non-first child than their first child: 61.77% of family has already have one or more than one babies, while 38.23% gives birth to their first child. This helps us investigate the effect of being the first-born on birth weights as it could be a potential useful feature to predict baby weights."
   ]
  },
  {
   "cell_type": "markdown",
   "id": "a58d6791",
   "metadata": {},
   "source": [
    "## Sex of Infant - SEX"
   ]
  },
  {
   "cell_type": "code",
   "execution_count": 75,
   "id": "7801adca",
   "metadata": {},
   "outputs": [
    {
     "data": {
      "text/plain": [
       "Text(0.5, 1.0, \"Babies' Biological Gender\")"
      ]
     },
     "execution_count": 75,
     "metadata": {},
     "output_type": "execute_result"
    },
    {
     "data": {
      "image/png": "[encoded data removed]",
      "text/plain": [
       "<Figure size 432x288 with 1 Axes>"
      ]
     },
     "metadata": {
      "needs_background": "light"
     },
     "output_type": "display_data"
    }
   ],
   "source": [
    "sns.countplot(x = birth['SEX'])\n",
    "plt.title(\"Babies' Biological Gender\")"
   ]
  },
  {
   "cell_type": "code",
   "execution_count": 48,
   "id": "9d00f7c3",
   "metadata": {},
   "outputs": [
    {
     "data": {
      "text/plain": [
       "5119"
      ]
     },
     "execution_count": 48,
     "metadata": {},
     "output_type": "execute_result"
    }
   ],
   "source": [
    "#Number of Males\n",
    "np.sum(birth['SEX'] == 'M')"
   ]
  },
  {
   "cell_type": "code",
   "execution_count": 49,
   "id": "0892ff92",
   "metadata": {},
   "outputs": [
    {
     "data": {
      "text/plain": [
       "4881"
      ]
     },
     "execution_count": 49,
     "metadata": {},
     "output_type": "execute_result"
    }
   ],
   "source": [
    "#Number of Females\n",
    "np.sum(birth['SEX'] == 'F')"
   ]
  },
  {
   "cell_type": "code",
   "execution_count": 50,
   "id": "e324e7e4",
   "metadata": {},
   "outputs": [
    {
     "data": {
      "text/plain": [
       "M    0.5119\n",
       "F    0.4881\n",
       "Name: SEX, dtype: float64"
      ]
     },
     "execution_count": 50,
     "metadata": {},
     "output_type": "execute_result"
    }
   ],
   "source": [
    "#Percentage of each category\n",
    "freq = birth['SEX'].value_counts()\n",
    "perc = freq/sum(freq)\n",
    "perc"
   ]
  },
  {
   "cell_type": "markdown",
   "id": "8bd50212",
   "metadata": {},
   "source": [
    "From the bar chat above, we can see that there isn't a big difference between the number of female babies and the number of male babies, with 51.19% of them as males and 48.81% of them being females. The biological sex of a baby is a useful feature that may influece a baby's birth weight."
   ]
  },
  {
   "cell_type": "code",
   "execution_count": null,
   "id": "5e7593b7",
   "metadata": {},
   "outputs": [],
   "source": []
  }
 ],
 "metadata": {
  "kernelspec": {
   "display_name": "Python 3 (ipykernel)",
   "language": "python",
   "name": "python3"
  },
  "language_info": {
   "codemirror_mode": {
    "name": "ipython",
    "version": 3
   },
   "file_extension": ".py",
   "mimetype": "text/x-python",
   "name": "python",
   "nbconvert_exporter": "python",
   "pygments_lexer": "ipython3",
   "version": "3.9.12"
  }
 },
 "nbformat": 4,
 "nbformat_minor": 5
}

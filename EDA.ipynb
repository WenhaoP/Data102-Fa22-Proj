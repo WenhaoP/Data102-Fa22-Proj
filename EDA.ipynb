{
 "cells": [
  {
   "cell_type": "code",
   "execution_count": 1,
   "id": "e3873bb8",
   "metadata": {},
   "outputs": [],
   "source": [
    "import numpy as np\n",
    "import pandas as pd\n",
    "import matplotlib.pyplot as plt\n",
    "import seaborn as sns"
   ]
  },
  {
   "cell_type": "code",
   "execution_count": 2,
   "id": "8534dfcf",
   "metadata": {},
   "outputs": [],
   "source": [
    "birth = pd.read_csv('subsampled_clean_data.csv')"
   ]
  },
  {
   "cell_type": "code",
   "execution_count": 3,
   "id": "5e760690",
   "metadata": {},
   "outputs": [
    {
     "data": {
      "text/html": [
       "<div>\n",
       "<style scoped>\n",
       "    .dataframe tbody tr th:only-of-type {\n",
       "        vertical-align: middle;\n",
       "    }\n",
       "\n",
       "    .dataframe tbody tr th {\n",
       "        vertical-align: top;\n",
       "    }\n",
       "\n",
       "    .dataframe thead th {\n",
       "        text-align: right;\n",
       "    }\n",
       "</style>\n",
       "<table border=\"1\" class=\"dataframe\">\n",
       "  <thead>\n",
       "    <tr style=\"text-align: right;\">\n",
       "      <th></th>\n",
       "      <th>Unnamed: 0</th>\n",
       "      <th>ATTEND</th>\n",
       "      <th>BFACIL</th>\n",
       "      <th>BMI</th>\n",
       "      <th>DBWT</th>\n",
       "      <th>DMAR</th>\n",
       "      <th>FAGECOMB</th>\n",
       "      <th>FEDUC</th>\n",
       "      <th>FRACE6</th>\n",
       "      <th>LD_INDL</th>\n",
       "      <th>...</th>\n",
       "      <th>PRIORLIVE</th>\n",
       "      <th>PRIORTERM</th>\n",
       "      <th>RDMETH_REC</th>\n",
       "      <th>RESTATUS</th>\n",
       "      <th>RF_CESAR</th>\n",
       "      <th>SEX</th>\n",
       "      <th>PREG_LEN</th>\n",
       "      <th>WTGAIN_PER</th>\n",
       "      <th>CIG</th>\n",
       "      <th>FIRST_BIRTH</th>\n",
       "    </tr>\n",
       "  </thead>\n",
       "  <tbody>\n",
       "    <tr>\n",
       "      <th>0</th>\n",
       "      <td>2780164</td>\n",
       "      <td>1</td>\n",
       "      <td>1</td>\n",
       "      <td>31.4</td>\n",
       "      <td>3670</td>\n",
       "      <td>1</td>\n",
       "      <td>29</td>\n",
       "      <td>6</td>\n",
       "      <td>1</td>\n",
       "      <td>N</td>\n",
       "      <td>...</td>\n",
       "      <td>False</td>\n",
       "      <td>False</td>\n",
       "      <td>1</td>\n",
       "      <td>2</td>\n",
       "      <td>N</td>\n",
       "      <td>M</td>\n",
       "      <td>9</td>\n",
       "      <td>0.000000</td>\n",
       "      <td>False</td>\n",
       "      <td>True</td>\n",
       "    </tr>\n",
       "    <tr>\n",
       "      <th>1</th>\n",
       "      <td>1306496</td>\n",
       "      <td>2</td>\n",
       "      <td>1</td>\n",
       "      <td>27.6</td>\n",
       "      <td>3494</td>\n",
       "      <td>1</td>\n",
       "      <td>34</td>\n",
       "      <td>4</td>\n",
       "      <td>1</td>\n",
       "      <td>Y</td>\n",
       "      <td>...</td>\n",
       "      <td>True</td>\n",
       "      <td>False</td>\n",
       "      <td>1</td>\n",
       "      <td>1</td>\n",
       "      <td>N</td>\n",
       "      <td>F</td>\n",
       "      <td>9</td>\n",
       "      <td>0.120482</td>\n",
       "      <td>False</td>\n",
       "      <td>False</td>\n",
       "    </tr>\n",
       "    <tr>\n",
       "      <th>2</th>\n",
       "      <td>3027006</td>\n",
       "      <td>1</td>\n",
       "      <td>1</td>\n",
       "      <td>27.1</td>\n",
       "      <td>3374</td>\n",
       "      <td>2</td>\n",
       "      <td>43</td>\n",
       "      <td>2</td>\n",
       "      <td>1</td>\n",
       "      <td>N</td>\n",
       "      <td>...</td>\n",
       "      <td>True</td>\n",
       "      <td>True</td>\n",
       "      <td>1</td>\n",
       "      <td>1</td>\n",
       "      <td>N</td>\n",
       "      <td>M</td>\n",
       "      <td>10</td>\n",
       "      <td>0.061350</td>\n",
       "      <td>True</td>\n",
       "      <td>False</td>\n",
       "    </tr>\n",
       "    <tr>\n",
       "      <th>3</th>\n",
       "      <td>903600</td>\n",
       "      <td>1</td>\n",
       "      <td>1</td>\n",
       "      <td>26.8</td>\n",
       "      <td>3520</td>\n",
       "      <td>1</td>\n",
       "      <td>30</td>\n",
       "      <td>3</td>\n",
       "      <td>1</td>\n",
       "      <td>Y</td>\n",
       "      <td>...</td>\n",
       "      <td>False</td>\n",
       "      <td>True</td>\n",
       "      <td>1</td>\n",
       "      <td>1</td>\n",
       "      <td>N</td>\n",
       "      <td>M</td>\n",
       "      <td>9</td>\n",
       "      <td>0.301282</td>\n",
       "      <td>False</td>\n",
       "      <td>True</td>\n",
       "    </tr>\n",
       "    <tr>\n",
       "      <th>4</th>\n",
       "      <td>2813944</td>\n",
       "      <td>1</td>\n",
       "      <td>1</td>\n",
       "      <td>21.3</td>\n",
       "      <td>3140</td>\n",
       "      <td>1</td>\n",
       "      <td>30</td>\n",
       "      <td>5</td>\n",
       "      <td>1</td>\n",
       "      <td>N</td>\n",
       "      <td>...</td>\n",
       "      <td>False</td>\n",
       "      <td>False</td>\n",
       "      <td>1</td>\n",
       "      <td>3</td>\n",
       "      <td>N</td>\n",
       "      <td>M</td>\n",
       "      <td>9</td>\n",
       "      <td>0.208333</td>\n",
       "      <td>False</td>\n",
       "      <td>True</td>\n",
       "    </tr>\n",
       "  </tbody>\n",
       "</table>\n",
       "<p>5 rows × 32 columns</p>\n",
       "</div>"
      ],
      "text/plain": [
       "   Unnamed: 0  ATTEND  BFACIL   BMI  DBWT DMAR  FAGECOMB  FEDUC  FRACE6  \\\n",
       "0     2780164       1       1  31.4  3670    1        29      6       1   \n",
       "1     1306496       2       1  27.6  3494    1        34      4       1   \n",
       "2     3027006       1       1  27.1  3374    2        43      2       1   \n",
       "3      903600       1       1  26.8  3520    1        30      3       1   \n",
       "4     2813944       1       1  21.3  3140    1        30      5       1   \n",
       "\n",
       "  LD_INDL  ...  PRIORLIVE  PRIORTERM  RDMETH_REC  RESTATUS  RF_CESAR  SEX  \\\n",
       "0       N  ...      False      False           1         2         N    M   \n",
       "1       Y  ...       True      False           1         1         N    F   \n",
       "2       N  ...       True       True           1         1         N    M   \n",
       "3       Y  ...      False       True           1         1         N    M   \n",
       "4       N  ...      False      False           1         3         N    M   \n",
       "\n",
       "   PREG_LEN  WTGAIN_PER    CIG  FIRST_BIRTH  \n",
       "0         9    0.000000  False         True  \n",
       "1         9    0.120482  False        False  \n",
       "2        10    0.061350   True        False  \n",
       "3         9    0.301282  False         True  \n",
       "4         9    0.208333  False         True  \n",
       "\n",
       "[5 rows x 32 columns]"
      ]
     },
     "execution_count": 3,
     "metadata": {},
     "output_type": "execute_result"
    }
   ],
   "source": [
    "birth.head()"
   ]
  },
  {
   "cell_type": "markdown",
   "id": "8b12f890",
   "metadata": {},
   "source": [
    "Tasks:\n",
    "1.  Visualize at least two quantitative variables and two categorical variables. Your visualizations must be relevant to your research questions!\n",
    "2.  Describe any trends you observe, and any relationships you may want to follow up on.\n",
    "3. Describe any data cleaning steps you took. How will these decisions impact your models and\n",
    "inferences? (This is in preprocessing.ipynb)\n",
    "4.  Explain how your visualizations should be relevant to your research questions: either by motivating the question, or suggesting a potential answer. You must explain why they are relevant."
   ]
  },
  {
   "cell_type": "markdown",
   "id": "3cfb2e21",
   "metadata": {},
   "source": [
    "# Quantitative Variables"
   ]
  },
  {
   "cell_type": "markdown",
   "id": "ad5cbff6",
   "metadata": {},
   "source": [
    "## Birth Weight – Detail in Grams (DBWT)"
   ]
  },
  {
   "cell_type": "code",
   "execution_count": 4,
   "id": "8b06434e",
   "metadata": {},
   "outputs": [
    {
     "data": {
      "text/plain": [
       "Text(0.5, 1.0, 'Histogram of Birth Weight-Detail in Grams')"
      ]
     },
     "execution_count": 4,
     "metadata": {},
     "output_type": "execute_result"
    },
    {
     "data": {
      "image/png": "[encoded data removed]",
      "text/plain": [
       "<Figure size 432x288 with 1 Axes>"
      ]
     },
     "metadata": {
      "needs_background": "light"
     },
     "output_type": "display_data"
    }
   ],
   "source": [
    "sns.histplot(birth['DBWT'], stat = 'density', kde = True)\n",
    "plt.title(\"Histogram of Birth Weight-Detail in Grams\")"
   ]
  },
  {
   "cell_type": "code",
   "execution_count": 5,
   "id": "32560dae",
   "metadata": {},
   "outputs": [
    {
     "data": {
      "text/plain": [
       "3291.9113"
      ]
     },
     "execution_count": 5,
     "metadata": {},
     "output_type": "execute_result"
    }
   ],
   "source": [
    "#Mean\n",
    "np.mean(birth['DBWT'])"
   ]
  },
  {
   "cell_type": "code",
   "execution_count": 6,
   "id": "502f15e8",
   "metadata": {},
   "outputs": [
    {
     "data": {
      "text/plain": [
       "578.2338821206437"
      ]
     },
     "execution_count": 6,
     "metadata": {},
     "output_type": "execute_result"
    }
   ],
   "source": [
    "#SD\n",
    "np.std(birth['DBWT'])"
   ]
  },
  {
   "cell_type": "code",
   "execution_count": 7,
   "id": "14b07b09",
   "metadata": {},
   "outputs": [
    {
     "data": {
      "text/plain": [
       "(269, 5570)"
      ]
     },
     "execution_count": 7,
     "metadata": {},
     "output_type": "execute_result"
    }
   ],
   "source": [
    "#min and max\n",
    "np.min(birth['DBWT']), np.max(birth['DBWT'])"
   ]
  },
  {
   "cell_type": "markdown",
   "id": "41376782",
   "metadata": {},
   "source": [
    "From the histogram above, we see that the birth weight is rougly normally distributed with mean = 3292 and standard deviation = 578. We can see that it is slightly skewed to the left, with minimum weight at 269; this is an interesting trend that we can follow up in order to answer our first research question (\"Does smoking cause lower birth weights?\"). Our second research question (\"Predicting a baby's birth weight from Mother’s Single Years of Age and Number of Prenatal Visits, comparing GLMs to nonparametric methods.\") is attempting to predict birth weight, so we can use this histogram to help us perform model checking."
   ]
  },
  {
   "cell_type": "markdown",
   "id": "5d7679f6",
   "metadata": {},
   "source": [
    "## Mother’s Single Years of Age (MAGER)"
   ]
  },
  {
   "cell_type": "code",
   "execution_count": 8,
   "id": "f9534c11",
   "metadata": {},
   "outputs": [
    {
     "data": {
      "text/plain": [
       "Text(0.5, 1.0, \"Histogram of Mother's Single Years of Age\")"
      ]
     },
     "execution_count": 8,
     "metadata": {},
     "output_type": "execute_result"
    },
    {
     "data": {
      "image/png": "[encoded data removed]",
      "text/plain": [
       "<Figure size 432x288 with 1 Axes>"
      ]
     },
     "metadata": {
      "needs_background": "light"
     },
     "output_type": "display_data"
    }
   ],
   "source": [
    "sns.histplot(birth['MAGER'], stat = 'density')\n",
    "plt.title(\"Histogram of Mother's Single Years of Age\")"
   ]
  },
  {
   "cell_type": "code",
   "execution_count": 9,
   "id": "90257487",
   "metadata": {},
   "outputs": [
    {
     "data": {
      "text/plain": [
       "29.5224"
      ]
     },
     "execution_count": 9,
     "metadata": {},
     "output_type": "execute_result"
    }
   ],
   "source": [
    "#Mean\n",
    "np.mean(birth['MAGER'])"
   ]
  },
  {
   "cell_type": "code",
   "execution_count": 10,
   "id": "cf905a38",
   "metadata": {},
   "outputs": [
    {
     "data": {
      "text/plain": [
       "5.5782164031166985"
      ]
     },
     "execution_count": 10,
     "metadata": {},
     "output_type": "execute_result"
    }
   ],
   "source": [
    "#SD\n",
    "np.std(birth['MAGER'])"
   ]
  },
  {
   "cell_type": "code",
   "execution_count": 11,
   "id": "70c2a4ed",
   "metadata": {},
   "outputs": [
    {
     "data": {
      "text/plain": [
       "(15, 50)"
      ]
     },
     "execution_count": 11,
     "metadata": {},
     "output_type": "execute_result"
    }
   ],
   "source": [
    "#min and max\n",
    "np.min(birth['MAGER']), np.max(birth['MAGER'])"
   ]
  },
  {
   "cell_type": "markdown",
   "id": "dae014af",
   "metadata": {},
   "source": [
    "From the histogram above, we see that the mother's age is rougly normally distributed as well with mean around 19.5 and standard deviation around 5.6. We can see that it is slightly skewed to the right, with maximum age at 50; this is an interesting trend that we can follow up for our second research question (\"Predicting a baby's birth weight from Mother’s Single Years of Age and Number of Prenatal Visits, comparing GLMs to nonparametric methods.\"). We can use this to help us answer if older mother is likely to have babies with lighter birth weights."
   ]
  },
  {
   "cell_type": "markdown",
   "id": "58afe960",
   "metadata": {},
   "source": [
    "# Categorical Variables"
   ]
  },
  {
   "cell_type": "markdown",
   "id": "ad73b8e7",
   "metadata": {},
   "source": [
    "## Smoking or Not (CIG)"
   ]
  },
  {
   "cell_type": "code",
   "execution_count": 15,
   "id": "8d1e13bf",
   "metadata": {},
   "outputs": [
    {
     "data": {
      "text/plain": [
       "Text(0.5, 1.0, 'Bar Chart of Whether a Mother Smokes or Not')"
      ]
     },
     "execution_count": 15,
     "metadata": {},
     "output_type": "execute_result"
    },
    {
     "data": {
      "image/png": "[encoded data removed]",
      "text/plain": [
       "<Figure size 432x288 with 1 Axes>"
      ]
     },
     "metadata": {
      "needs_background": "light"
     },
     "output_type": "display_data"
    }
   ],
   "source": [
    "sns.countplot(x = birth['CIG'])\n",
    "plt.title(\"Bar Chart of Whether a Mother Smokes or Not\")"
   ]
  },
  {
   "cell_type": "code",
   "execution_count": 18,
   "id": "673c0860",
   "metadata": {},
   "outputs": [
    {
     "data": {
      "text/plain": [
       "682"
      ]
     },
     "execution_count": 18,
     "metadata": {},
     "output_type": "execute_result"
    }
   ],
   "source": [
    "#Number of Smokers\n",
    "np.sum(birth['CIG'] == 1)"
   ]
  },
  {
   "cell_type": "code",
   "execution_count": 19,
   "id": "1ad33c20",
   "metadata": {},
   "outputs": [
    {
     "data": {
      "text/plain": [
       "9318"
      ]
     },
     "execution_count": 19,
     "metadata": {},
     "output_type": "execute_result"
    }
   ],
   "source": [
    "#Number of Non-smokers\n",
    "np.sum(birth['CIG'] == 0)"
   ]
  },
  {
   "cell_type": "markdown",
   "id": "635849d4",
   "metadata": {},
   "source": [
    "From the Bar Chart above, we can see that much more mothers don't smoke comparing with number of mothers who smoke: there are 682 smokers and 9318 non-smokers. This will help us to answer our first research question(\"Does smoking cause lower birth weights?\"), since we see from this plot that we need to take into consideration that the number of smokers and number of non-smokers are not balanced."
   ]
  },
  {
   "cell_type": "markdown",
   "id": "f695d4f4",
   "metadata": {},
   "source": [
    "## First Birth(FIRST_BIRTH)"
   ]
  },
  {
   "cell_type": "code",
   "execution_count": 20,
   "id": "88528dfd",
   "metadata": {},
   "outputs": [
    {
     "data": {
      "text/plain": [
       "Text(0.5, 1.0, 'Bar Chart of if this Baby is First Birth')"
      ]
     },
     "execution_count": 20,
     "metadata": {},
     "output_type": "execute_result"
    },
    {
     "data": {
      "image/png": "[encoded data removed]",
      "text/plain": [
       "<Figure size 432x288 with 1 Axes>"
      ]
     },
     "metadata": {
      "needs_background": "light"
     },
     "output_type": "display_data"
    }
   ],
   "source": [
    "sns.countplot(x = birth['FIRST_BIRTH'])\n",
    "plt.title(\"Bar Chart of if this Baby is First Birth\")"
   ]
  },
  {
   "cell_type": "code",
   "execution_count": 21,
   "id": "c0f0e467",
   "metadata": {},
   "outputs": [
    {
     "data": {
      "text/plain": [
       "3823"
      ]
     },
     "execution_count": 21,
     "metadata": {},
     "output_type": "execute_result"
    }
   ],
   "source": [
    "#Number of First Birth\n",
    "np.sum(birth['FIRST_BIRTH'] == 1)"
   ]
  },
  {
   "cell_type": "code",
   "execution_count": 22,
   "id": "31c87587",
   "metadata": {},
   "outputs": [
    {
     "data": {
      "text/plain": [
       "6177"
      ]
     },
     "execution_count": 22,
     "metadata": {},
     "output_type": "execute_result"
    }
   ],
   "source": [
    "#Number of None First Birth\n",
    "np.sum(birth['FIRST_BIRTH'] == 0)"
   ]
  },
  {
   "cell_type": "markdown",
   "id": "b683d688",
   "metadata": {},
   "source": [
    "From the Bar Chart above, we can see a bit more non-first birth than first birth: there are 3823 first-births and 6177 non-first births. This motivates us to include this feature in helping us to predict baby's birth weight for our second research question. "
   ]
  },
  {
   "cell_type": "code",
   "execution_count": null,
   "id": "29f6760a",
   "metadata": {},
   "outputs": [],
   "source": []
  }
 ],
 "metadata": {
  "kernelspec": {
   "display_name": "Python 3 (ipykernel)",
   "language": "python",
   "name": "python3"
  },
  "language_info": {
   "codemirror_mode": {
    "name": "ipython",
    "version": 3
   },
   "file_extension": ".py",
   "mimetype": "text/x-python",
   "name": "python",
   "nbconvert_exporter": "python",
   "pygments_lexer": "ipython3",
   "version": "3.9.7"
  }
 },
 "nbformat": 4,
 "nbformat_minor": 5
}

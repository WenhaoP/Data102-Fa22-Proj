{
 "cells": [
  {
   "attachments": {},
   "cell_type": "markdown",
   "metadata": {},
   "source": [
    "# Conda Environment Setup"
   ]
  },
  {
   "cell_type": "code",
   "execution_count": null,
   "metadata": {},
   "outputs": [],
   "source": [
    "'''\n",
    "name: birth\n",
    "channels:\n",
    "  - conda-forge\n",
    "  - defaults\n",
    "dependencies:\n",
    "  - python\n",
    "  - pandas\n",
    "  - matplotlib\n",
    "  - seaborn\n",
    "  - scikit-learn\n",
    "  - scipy\n",
    "  - statsmodels\n",
    "  - pymc3\n",
    "  - arviz\n",
    "  - ipywidgets\n",
    "'''"
   ]
  },
  {
   "cell_type": "markdown",
   "metadata": {},
   "source": [
    "# Data Preprocessing\n",
    "\n",
    "This notebook conducts data preprocessing, including data cleaning, feature engineering, and subsampling."
   ]
  },
  {
   "cell_type": "code",
   "execution_count": null,
   "metadata": {},
   "outputs": [],
   "source": [
    "import pandas as pd"
   ]
  },
  {
   "cell_type": "code",
   "execution_count": null,
   "metadata": {},
   "outputs": [],
   "source": [
    "birth = pd.read_csv('US_births(2018).csv')"
   ]
  },
  {
   "cell_type": "code",
   "execution_count": null,
   "metadata": {},
   "outputs": [],
   "source": [
    "birth.shape"
   ]
  },
  {
   "cell_type": "markdown",
   "metadata": {},
   "source": [
    "## Data Cleaning"
   ]
  },
  {
   "cell_type": "code",
   "execution_count": null,
   "metadata": {},
   "outputs": [],
   "source": [
    "clean_birth = birth.dropna()\n",
    "\n",
    "# remove missing values in the response/outcome variable\n",
    "clean_birth = clean_birth[clean_birth['DBWT'] != 9999] \n",
    "\n",
    "# remove missing values in the features\n",
    "clean_birth = clean_birth[\n",
    "    (clean_birth['PRECARE'] != 99) & \n",
    "    (clean_birth['CIG_0'] != 99) & \n",
    "    (clean_birth['BMI'] != 99.9) & \n",
    "    (clean_birth['PREVIS'] != 99) & \n",
    "    (clean_birth['MRAVE6'] != 9) & \n",
    "    (clean_birth['PAY_REC'] != 9) &\n",
    "    (clean_birth['FRACE6'] != 9) &\n",
    "    (clean_birth['MEDUC'] != 9) & \n",
    "    (clean_birth['FEDUC'] != 9) & \n",
    "    (clean_birth['NO_RISKS'] != 9) & \n",
    "    (clean_birth['ATTEND'] != 9) &\n",
    "    (clean_birth['BFACIL'] != 9) &\n",
    "    (clean_birth['FAGECOMB'] != 99) &\n",
    "    (clean_birth['RF_CESAR'] != 'U') &\n",
    "    (clean_birth['LD_INDL'] != 'U') &\n",
    "    (clean_birth['MBSTATE_REC'] != 3) &\n",
    "    (clean_birth['M_Ht_In'] != 99) &\n",
    "    (clean_birth['NO_INFEC'] != 9) &\n",
    "    (clean_birth['NO_MMORB'] != 9) &\n",
    "    (clean_birth['PRIORLIVE'] != 99) &\n",
    "    (clean_birth['PRIORTERM'] != 99) &\n",
    "    (clean_birth['RDMETH_REC'] != 9) &\n",
    "    (clean_birth['DLMP_YY'] != 9999) &\n",
    "    (clean_birth['DLMP_MM'] != 99) &\n",
    "    (clean_birth['PWgt_R'] != 999) &\n",
    "    (clean_birth['WTGAIN'] != 99) &\n",
    "    (clean_birth['ILLB_R'] != 909)\n",
    "] "
   ]
  },
  {
   "cell_type": "code",
   "execution_count": null,
   "metadata": {},
   "outputs": [],
   "source": [
    "clean_birth.shape"
   ]
  },
  {
   "cell_type": "markdown",
   "metadata": {},
   "source": [
    "## Feature engineering"
   ]
  },
  {
   "cell_type": "code",
   "execution_count": null,
   "metadata": {},
   "outputs": [],
   "source": [
    "# estimate pregnancy length\n",
    "clean_birth['PREG_LEN'] = 12*(2018 - clean_birth['DLMP_YY']) + (clean_birth['DOB_MM'] - clean_birth['DLMP_MM']) \n",
    "\n",
    "# recode PRECARE\n",
    "clean_birth['PRECARE'][(clean_birth['PRECARE'] < 4) & (clean_birth['PRECARE'] > 0)] = 1 \n",
    "clean_birth['PRECARE'][(clean_birth['PRECARE'] < 7) & (clean_birth['PRECARE'] > 3)] = 2\n",
    "clean_birth['PRECARE'][(clean_birth['PRECARE'] > 6)] = 3\n",
    "\n",
    "# compute percentage weight gain\n",
    "clean_birth['WTGAIN_PER'] = clean_birth['WTGAIN'] / clean_birth['PWgt_R'] \n",
    "\n",
    "# binarize CIG_0\n",
    "clean_birth['CIG'] = clean_birth['CIG_0'] > 0 \n",
    "\n",
    "# binarize PRIORDEAD\n",
    "clean_birth['PRIORDEAD'] = clean_birth['PRIORDEAD'] > 0\n",
    "\n",
    "# binarize PRIORTERM\n",
    "clean_birth['PRIORTERM'] = clean_birth['PRIORTERM'] > 0\n",
    "\n",
    "# binarize PRIORLIVE\n",
    "clean_birth['PRIORLIVE'] = clean_birth['PRIORLIVE'] > 0\n",
    "\n",
    "# compute first time live birth\n",
    "clean_birth['FIRST_BIRTH'] = clean_birth['ILLB_R'] == 888"
   ]
  },
  {
   "cell_type": "code",
   "execution_count": null,
   "metadata": {},
   "outputs": [],
   "source": [
    "# drop columns where >99% entries are the same\n",
    "clean_birth = clean_birth.drop(['DOB_YY', 'IMP_SEX', 'IP_GON', 'MAGE_IMPFLG', 'MAR_IMP', 'MM_AICU', 'MTRAN'], axis=1)\n",
    "\n",
    "# drop redundant columns due to feature engineering\n",
    "clean_birth = clean_birth.drop(['WTGAIN', 'PWgt_R', 'DWgt_R', 'DOB_MM', \n",
    "                                   'DOB_WK', 'DOB_TT', 'DOB_MM', 'DLMP_YY',\n",
    "                                   'DLMP_MM', 'PAY', 'MHISPX', 'MRACE15',\n",
    "                                   'MRACE31', 'MRACEIMP', 'FHISPX', 'FRACE15',\n",
    "                                   'FRACE31', 'RF_CESARN', 'ILOP_R', 'ILP_R', 'ILLB_R','CIG_0'], axis=1)"
   ]
  },
  {
   "cell_type": "code",
   "execution_count": null,
   "metadata": {},
   "outputs": [],
   "source": [
    "clean_birth.shape"
   ]
  },
  {
   "cell_type": "markdown",
   "metadata": {},
   "source": [
    "## Subsampling"
   ]
  },
  {
   "cell_type": "code",
   "execution_count": null,
   "metadata": {},
   "outputs": [],
   "source": [
    "n = 10000\n",
    "sub_clean_birth = clean_birth.sample(n, random_state=102)\n",
    "sub_clean_birth.to_csv('subsampled_clean_data.csv')"
   ]
  },
  {
   "attachments": {},
   "cell_type": "markdown",
   "metadata": {},
   "source": [
    "# EDA"
   ]
  },
  {
   "cell_type": "code",
   "execution_count": null,
   "id": "e3873bb8",
   "metadata": {},
   "outputs": [],
   "source": [
    "import numpy as np\n",
    "import pandas as pd\n",
    "import matplotlib.pyplot as plt\n",
    "import seaborn as sns"
   ]
  },
  {
   "cell_type": "code",
   "execution_count": null,
   "id": "8534dfcf",
   "metadata": {},
   "outputs": [],
   "source": [
    "birth = pd.read_csv('subsampled_clean_data.csv')"
   ]
  },
  {
   "cell_type": "code",
   "execution_count": null,
   "id": "5e760690",
   "metadata": {},
   "outputs": [],
   "source": [
    "birth.head()"
   ]
  },
  {
   "attachments": {},
   "cell_type": "markdown",
   "id": "3cfb2e21",
   "metadata": {},
   "source": [
    "## Quantitative Variables"
   ]
  },
  {
   "cell_type": "markdown",
   "id": "ad5cbff6",
   "metadata": {},
   "source": [
    "## Birth Weight – Detail in Grams (DBWT)"
   ]
  },
  {
   "cell_type": "code",
   "execution_count": null,
   "id": "8b06434e",
   "metadata": {},
   "outputs": [],
   "source": [
    "sns.histplot(birth['DBWT'], stat = 'density', kde = True)\n",
    "plt.title(\"Birth Weight-Detail in Grams\")"
   ]
  },
  {
   "cell_type": "code",
   "execution_count": null,
   "id": "32560dae",
   "metadata": {},
   "outputs": [],
   "source": [
    "#Mean\n",
    "np.mean(birth['DBWT'])"
   ]
  },
  {
   "cell_type": "code",
   "execution_count": null,
   "id": "502f15e8",
   "metadata": {},
   "outputs": [],
   "source": [
    "#SD\n",
    "np.std(birth['DBWT'])"
   ]
  },
  {
   "cell_type": "code",
   "execution_count": null,
   "id": "14b07b09",
   "metadata": {},
   "outputs": [],
   "source": [
    "#min and max\n",
    "np.min(birth['DBWT']), np.max(birth['DBWT'])"
   ]
  },
  {
   "cell_type": "markdown",
   "id": "5d7679f6",
   "metadata": {},
   "source": [
    "## Mother’s Single Years of Age (MAGER)"
   ]
  },
  {
   "cell_type": "code",
   "execution_count": null,
   "id": "f9534c11",
   "metadata": {},
   "outputs": [],
   "source": [
    "sns.histplot(birth['MAGER'], stat = 'density')\n",
    "plt.title(\"Mother's Single Years of Age\")"
   ]
  },
  {
   "cell_type": "code",
   "execution_count": null,
   "id": "90257487",
   "metadata": {},
   "outputs": [],
   "source": [
    "#Mean\n",
    "np.mean(birth['MAGER'])"
   ]
  },
  {
   "cell_type": "code",
   "execution_count": null,
   "id": "cf905a38",
   "metadata": {},
   "outputs": [],
   "source": [
    "#SD\n",
    "np.std(birth['MAGER'])"
   ]
  },
  {
   "cell_type": "code",
   "execution_count": null,
   "id": "70c2a4ed",
   "metadata": {},
   "outputs": [],
   "source": [
    "#min and max\n",
    "np.min(birth['MAGER']), np.max(birth['MAGER'])"
   ]
  },
  {
   "cell_type": "markdown",
   "id": "308f01e0",
   "metadata": {},
   "source": [
    "## Number of Prenatal Visits - PREVIS"
   ]
  },
  {
   "cell_type": "code",
   "execution_count": null,
   "id": "5e25ffb3",
   "metadata": {},
   "outputs": [],
   "source": [
    "sns.histplot(birth['PREVIS'], stat = 'density')\n",
    "plt.title(\"Number of Prenatal Visits\")"
   ]
  },
  {
   "cell_type": "code",
   "execution_count": null,
   "id": "7c2c7665",
   "metadata": {},
   "outputs": [],
   "source": [
    "#Mean\n",
    "np.mean(birth['PREVIS'])"
   ]
  },
  {
   "cell_type": "code",
   "execution_count": null,
   "id": "8ba582cc",
   "metadata": {},
   "outputs": [],
   "source": [
    "#SD\n",
    "np.std(birth['PREVIS'])"
   ]
  },
  {
   "cell_type": "code",
   "execution_count": null,
   "id": "59aaa8a6",
   "metadata": {},
   "outputs": [],
   "source": [
    "#min and max\n",
    "np.min(birth['PREVIS']), np.max(birth['PREVIS'])"
   ]
  },
  {
   "cell_type": "markdown",
   "id": "58afe960",
   "metadata": {},
   "source": [
    "# Categorical Variables"
   ]
  },
  {
   "cell_type": "markdown",
   "id": "04530d8a",
   "metadata": {},
   "source": [
    "## Smoking Before Pregnancy - CIG"
   ]
  },
  {
   "cell_type": "code",
   "execution_count": null,
   "id": "ec4fff4b",
   "metadata": {},
   "outputs": [],
   "source": [
    "sns.countplot(x = birth['CIG'])\n",
    "plt.title(\"Smoking Before Pregnancy\")"
   ]
  },
  {
   "cell_type": "code",
   "execution_count": null,
   "id": "dc519096",
   "metadata": {},
   "outputs": [],
   "source": [
    "#Number of Smokers\n",
    "np.sum(birth['CIG'] == 1)"
   ]
  },
  {
   "cell_type": "code",
   "execution_count": null,
   "id": "fdce60ad",
   "metadata": {},
   "outputs": [],
   "source": [
    "#Number of Non-smokers\n",
    "np.sum(birth['CIG'] == 0)"
   ]
  },
  {
   "cell_type": "code",
   "execution_count": null,
   "id": "b5c88fd4",
   "metadata": {},
   "outputs": [],
   "source": [
    "#Percentage of each category\n",
    "freq = birth['CIG'].value_counts()\n",
    "perc = freq/sum(freq)\n",
    "perc"
   ]
  },
  {
   "cell_type": "markdown",
   "id": "8d34a3eb",
   "metadata": {},
   "source": [
    "## First Birth - FIRST_BIRTH"
   ]
  },
  {
   "cell_type": "code",
   "execution_count": null,
   "id": "bc8bfd40",
   "metadata": {},
   "outputs": [],
   "source": [
    "sns.countplot(x = birth['FIRST_BIRTH'])\n",
    "plt.title(\"First Birth Child\")"
   ]
  },
  {
   "cell_type": "code",
   "execution_count": null,
   "id": "1d8cdd33",
   "metadata": {},
   "outputs": [],
   "source": [
    "#Number of First Birth\n",
    "np.sum(birth['FIRST_BIRTH'] == 1)"
   ]
  },
  {
   "cell_type": "code",
   "execution_count": null,
   "id": "62e82f2c",
   "metadata": {},
   "outputs": [],
   "source": [
    "#Number of None First Birth\n",
    "np.sum(birth['FIRST_BIRTH'] == 0)"
   ]
  },
  {
   "cell_type": "code",
   "execution_count": null,
   "id": "5c1b0fec",
   "metadata": {},
   "outputs": [],
   "source": [
    "#Percentage of each category\n",
    "freq = birth['FIRST_BIRTH'].value_counts()\n",
    "perc = freq/sum(freq)\n",
    "perc"
   ]
  },
  {
   "cell_type": "markdown",
   "id": "a58d6791",
   "metadata": {},
   "source": [
    "## Sex of Infant - SEX"
   ]
  },
  {
   "cell_type": "code",
   "execution_count": null,
   "id": "7801adca",
   "metadata": {},
   "outputs": [],
   "source": [
    "sns.countplot(x = birth['SEX'])\n",
    "plt.title(\"Babies' Biological Gender\")"
   ]
  },
  {
   "cell_type": "code",
   "execution_count": null,
   "id": "9d00f7c3",
   "metadata": {},
   "outputs": [],
   "source": [
    "#Number of Males\n",
    "np.sum(birth['SEX'] == 'M')"
   ]
  },
  {
   "cell_type": "code",
   "execution_count": null,
   "id": "0892ff92",
   "metadata": {},
   "outputs": [],
   "source": [
    "#Number of Females\n",
    "np.sum(birth['SEX'] == 'F')"
   ]
  },
  {
   "cell_type": "code",
   "execution_count": null,
   "id": "e324e7e4",
   "metadata": {},
   "outputs": [],
   "source": [
    "#Percentage of each category\n",
    "freq = birth['SEX'].value_counts()\n",
    "perc = freq/sum(freq)\n",
    "perc"
   ]
  },
  {
   "attachments": {},
   "cell_type": "markdown",
   "id": "f7d4a4be",
   "metadata": {},
   "source": [
    "# Causal Inference"
   ]
  },
  {
   "cell_type": "code",
   "execution_count": null,
   "id": "47c913b3",
   "metadata": {},
   "outputs": [],
   "source": [
    "import matplotlib.pyplot as plt\n",
    "import numpy as np\n",
    "import pandas as pd\n",
    "import seaborn as sns\n",
    "import scipy.stats as stats\n",
    "from scipy.stats import beta, binom\n",
    "import itertools\n",
    "from ipywidgets import interact, interactive\n",
    "import statsmodels.api as sm\n",
    "\n",
    "import sklearn\n",
    "from sklearn.linear_model import LogisticRegression as LR"
   ]
  },
  {
   "cell_type": "code",
   "execution_count": null,
   "id": "bed4b7cd",
   "metadata": {},
   "outputs": [],
   "source": [
    "#load dataset\n",
    "birth = pd.read_csv('subsampled_clean_data.csv')\n",
    "birth"
   ]
  },
  {
   "cell_type": "markdown",
   "id": "8cd10f36",
   "metadata": {},
   "source": [
    "## Causal Inference - Randomized Experiments"
   ]
  },
  {
   "cell_type": "code",
   "execution_count": null,
   "id": "3b6673ec",
   "metadata": {},
   "outputs": [],
   "source": [
    "observed_T = np.mean(birth[birth[\"CIG\"] == True].DBWT) - np.mean(birth[birth[\"CIG\"] == False].DBWT)\n",
    "observed_T"
   ]
  },
  {
   "cell_type": "code",
   "execution_count": null,
   "id": "c299d94b",
   "metadata": {},
   "outputs": [],
   "source": [
    "birth['CIG'].sum()"
   ]
  },
  {
   "cell_type": "code",
   "execution_count": null,
   "id": "0db7ad53",
   "metadata": {},
   "outputs": [],
   "source": [
    "rng = np.random.default_rng(102)\n",
    "R = 50000 # repetition times\n",
    "Ts = np.zeros(R)\n",
    "shuffled_birth = birth.copy()\n",
    "\n",
    "for i in range(R):\n",
    "    shuffled_birth['shuffled_CIG'] = rng.choice(birth['CIG'], size=birth.shape[0], replace=False)\n",
    "    Ts[i] = np.mean(shuffled_birth[shuffled_birth[\"shuffled_CIG\"] == True].DBWT) - np.mean(shuffled_birth[shuffled_birth[\"shuffled_CIG\"] == False].DBWT)\n",
    "\n",
    "p_val = np.sum(np.abs(Ts) >= np.abs(observed_T)) / R\n",
    "print(f'The p-value is {p_val}')\n",
    "\n",
    "fig, ax = plt.subplots()\n",
    "ax.hist(Ts, density=True, label='Null Distribution')\n",
    "ax.axvline(observed_T, color='r', label='Observed')\n",
    "ax.set_xlabel('Test Statistics')\n",
    "fig.legend()\n",
    "fig.show()"
   ]
  },
  {
   "cell_type": "markdown",
   "id": "8e8b411d",
   "metadata": {},
   "source": [
    "## Causal Inference - Observational Studies"
   ]
  },
  {
   "cell_type": "markdown",
   "id": "685ea8e3",
   "metadata": {},
   "source": [
    "## Outcome Regression"
   ]
  },
  {
   "cell_type": "code",
   "execution_count": null,
   "id": "e142165d",
   "metadata": {},
   "outputs": [],
   "source": [
    "#change categorical data to dummy variable\n",
    "birth = pd.get_dummies(birth, columns=['CIG'], drop_first=True)\n",
    "birth "
   ]
  },
  {
   "cell_type": "code",
   "execution_count": null,
   "id": "ba321449",
   "metadata": {},
   "outputs": [],
   "source": [
    "def fit_OLS_model(df, target_variable, explanatory_variables, intercept = False):\n",
    "    target = df[target_variable]\n",
    "    inputs = df[explanatory_variables]\n",
    "    if intercept:\n",
    "        inputs = sm.add_constant(inputs)\n",
    "    \n",
    "    fitted_model = sm.OLS(target, inputs).fit()\n",
    "    return(fitted_model)\n",
    "\n",
    "def mean_squared_error(true_vals, predicted_vals):\n",
    "    return np.mean((true_vals - predicted_vals) ** 2)"
   ]
  },
  {
   "cell_type": "code",
   "execution_count": null,
   "id": "709ce754",
   "metadata": {
    "scrolled": true
   },
   "outputs": [],
   "source": [
    "full_linear_model = fit_OLS_model(birth, 'DBWT', ['CIG_True', 'BMI', 'PRECARE'], True)\n",
    "print(full_linear_model.summary())"
   ]
  },
  {
   "cell_type": "code",
   "execution_count": null,
   "id": "00f31ac9",
   "metadata": {},
   "outputs": [],
   "source": [
    "sns.histplot(data=birth, x='DBWT', hue='CIG_True', stat='density')\n",
    "plt.title(\"Distributions of Babies' Weights under Different Cigarettes Usage\")"
   ]
  },
  {
   "cell_type": "code",
   "execution_count": null,
   "id": "0d146f90",
   "metadata": {},
   "outputs": [],
   "source": [
    "birth.groupby('CIG_True')['DBWT'].mean()"
   ]
  },
  {
   "cell_type": "code",
   "execution_count": null,
   "id": "d61b9181",
   "metadata": {},
   "outputs": [],
   "source": [
    "sns.histplot(data=birth, x='DBWT', hue='PRECARE', stat='density')\n",
    "plt.title(\"Distributions of Babies' Weights under Different Prenatal Care Levels\")"
   ]
  },
  {
   "cell_type": "code",
   "execution_count": null,
   "id": "e7917347",
   "metadata": {},
   "outputs": [],
   "source": [
    "birth.groupby('PRECARE')['DBWT'].mean()"
   ]
  },
  {
   "cell_type": "markdown",
   "id": "b44bdf4f",
   "metadata": {},
   "source": [
    "### Inverse Propensity Score"
   ]
  },
  {
   "cell_type": "code",
   "execution_count": null,
   "id": "c1cdb0d1",
   "metadata": {},
   "outputs": [],
   "source": [
    "Z = birth.CIG_True.values\n",
    "Y = birth.DBWT.values\n",
    "X = birth[['BMI', 'PRECARE']]\n",
    "\n",
    "lr = LR(max_iter=200, random_state=0)\n",
    "lr.fit(X, Z)"
   ]
  },
  {
   "cell_type": "code",
   "execution_count": null,
   "id": "bdcb10c5",
   "metadata": {},
   "outputs": [],
   "source": [
    "birth['pscore'] = lr.predict_proba(X)[:,1]\n",
    "birth"
   ]
  },
  {
   "cell_type": "code",
   "execution_count": null,
   "id": "613b88c0",
   "metadata": {},
   "outputs": [],
   "source": [
    "n = len(birth)\n",
    "ipw = np.sum(birth[birth[\"CIG_True\"] == 1].DBWT / birth[birth[\"CIG_True\"] == 1].pscore)/n - np.sum(birth[birth[\"CIG_True\"] == 0].DBWT / (1 - birth[birth[\"CIG_True\"] == 0].pscore))/n\n",
    "ipw"
   ]
  },
  {
   "cell_type": "code",
   "execution_count": null,
   "id": "c9fe5be6",
   "metadata": {},
   "outputs": [],
   "source": [
    "plt.hist(birth[birth['CIG_True'] == 1]['pscore']);\n",
    "plt.title(\"Propensity score of people receiving the treatment\");"
   ]
  },
  {
   "cell_type": "code",
   "execution_count": null,
   "id": "dbcf9266",
   "metadata": {},
   "outputs": [],
   "source": [
    "plt.hist(birth[birth['CIG_True'] == 0]['pscore']);\n",
    "plt.title(\"Propensity score of people not receiving the treatment\");"
   ]
  },
  {
   "attachments": {},
   "cell_type": "markdown",
   "id": "f7d4a4be",
   "metadata": {},
   "source": [
    "# Prediction"
   ]
  },
  {
   "cell_type": "code",
   "execution_count": null,
   "id": "65be3ae8",
   "metadata": {},
   "outputs": [],
   "source": [
    "import numpy as np\n",
    "import pandas as pd\n",
    "import seaborn as sns\n",
    "import matplotlib.pyplot as plt\n",
    "from sklearn import tree\n",
    "from sklearn.model_selection import train_test_split\n",
    "from sklearn.ensemble import RandomForestRegressor"
   ]
  },
  {
   "cell_type": "code",
   "execution_count": null,
   "id": "5c29cc0f",
   "metadata": {},
   "outputs": [],
   "source": [
    "birth = pd.read_csv('subsampled_clean_data.csv')"
   ]
  },
  {
   "cell_type": "code",
   "execution_count": null,
   "id": "5bdef02f",
   "metadata": {},
   "outputs": [],
   "source": [
    "birth.head()"
   ]
  },
  {
   "cell_type": "markdown",
   "id": "00da9198",
   "metadata": {},
   "source": [
    "# Nonparametric Method-Decision Tree"
   ]
  },
  {
   "cell_type": "markdown",
   "id": "09de75c0",
   "metadata": {},
   "source": [
    "### Baby Weights (y)"
   ]
  },
  {
   "cell_type": "code",
   "execution_count": null,
   "id": "f2992635",
   "metadata": {},
   "outputs": [],
   "source": [
    "y = np.array(birth['DBWT'])\n",
    "y"
   ]
  },
  {
   "cell_type": "markdown",
   "id": "2214ae76",
   "metadata": {},
   "source": [
    "### Valid features to construct the tree (X)"
   ]
  },
  {
   "cell_type": "code",
   "execution_count": null,
   "id": "f91f4c2a",
   "metadata": {},
   "outputs": [],
   "source": [
    "# Drop irrelevant features and y\n",
    "X_drop = birth.drop(['DBWT', 'DMAR'], axis = 1)\n",
    "X_drop.head()"
   ]
  },
  {
   "cell_type": "code",
   "execution_count": null,
   "id": "d1c6e2d3",
   "metadata": {},
   "outputs": [],
   "source": [
    "# Get all the categorical data\n",
    "cat_cols = X_drop.select_dtypes(exclude=[\"number\"]).columns\n",
    "cat_cols"
   ]
  },
  {
   "cell_type": "code",
   "execution_count": null,
   "id": "3a48357a",
   "metadata": {},
   "outputs": [],
   "source": [
    "for c in cat_cols:\n",
    "    encoded = pd.get_dummies(X_drop[c], prefix=c)\n",
    "    X_drop = pd.concat([X_drop, encoded], axis='columns')"
   ]
  },
  {
   "cell_type": "code",
   "execution_count": null,
   "id": "ec268da1",
   "metadata": {},
   "outputs": [],
   "source": [
    "X_encoded = X_drop.drop(cat_cols, axis = 1)"
   ]
  },
  {
   "cell_type": "code",
   "execution_count": null,
   "id": "9aa7f8f8",
   "metadata": {},
   "outputs": [],
   "source": [
    "X_encoded.head()"
   ]
  },
  {
   "cell_type": "markdown",
   "id": "dec0da75",
   "metadata": {},
   "source": [
    "### Fit"
   ]
  },
  {
   "cell_type": "code",
   "execution_count": null,
   "id": "6c93584f",
   "metadata": {},
   "outputs": [],
   "source": [
    "X_train, X_test, y_train, y_test = train_test_split(X_encoded, y, test_size=0.01, random_state=0)"
   ]
  },
  {
   "cell_type": "code",
   "execution_count": null,
   "id": "3bb08fb9",
   "metadata": {},
   "outputs": [],
   "source": [
    "depths = [i for i in range(1, 10)]\n",
    "train_scores = np.ones(len(depths))\n",
    "test_scores = np.ones(len(depths))"
   ]
  },
  {
   "cell_type": "markdown",
   "id": "3603a7d8",
   "metadata": {},
   "source": [
    "#### Cross validation"
   ]
  },
  {
   "cell_type": "code",
   "execution_count": null,
   "id": "0378def0",
   "metadata": {},
   "outputs": [],
   "source": [
    "for idx in range(len(depths)):\n",
    "    clf = tree.DecisionTreeRegressor(max_depth = depths[idx])\n",
    "    clf.fit(X_train, y_train)\n",
    "    train_scores[idx] = clf.score(X_train, y_train)\n",
    "    test_scores[idx] = clf.score(X_test, y_test)\n",
    "    print(\"Max depths\" ,depths[idx] , \"will have train score\" , train_scores[idx] , \"and test score\" , test_scores[idx])"
   ]
  },
  {
   "cell_type": "markdown",
   "id": "649db0e8",
   "metadata": {},
   "source": [
    "According to the cross validation, max_depth = 4 looks promising, so that's what we will use in the prediction phase"
   ]
  },
  {
   "cell_type": "code",
   "execution_count": null,
   "id": "be96335d",
   "metadata": {},
   "outputs": [],
   "source": [
    "clf = tree.DecisionTreeRegressor(max_depth = 4)\n",
    "clf.fit(X_train, y_train)"
   ]
  },
  {
   "cell_type": "markdown",
   "id": "d48e4c5d",
   "metadata": {},
   "source": [
    "### Summarize and interpret "
   ]
  },
  {
   "cell_type": "markdown",
   "id": "14ca1427",
   "metadata": {},
   "source": [
    "#### Visualize tree"
   ]
  },
  {
   "cell_type": "code",
   "execution_count": null,
   "id": "81d811c0",
   "metadata": {
    "scrolled": false
   },
   "outputs": [],
   "source": [
    "plt.figure(figsize=(10,10))\n",
    "tree.plot_tree(clf, fontsize=9)\n",
    "plt.show()"
   ]
  },
  {
   "cell_type": "code",
   "execution_count": null,
   "id": "feebe3b7",
   "metadata": {},
   "outputs": [],
   "source": [
    "clf.feature_names_in_[19], clf.feature_names_in_[10], clf.feature_names_in_[16]"
   ]
  },
  {
   "cell_type": "markdown",
   "id": "1c746f2e",
   "metadata": {},
   "source": [
    "#### Ploting the true labels and predicted labels"
   ]
  },
  {
   "cell_type": "code",
   "execution_count": null,
   "id": "021ea127",
   "metadata": {},
   "outputs": [],
   "source": [
    "plt.rcParams['figure.figsize'] = (10, 6)\n",
    "x_ax = range(len(X_test))\n",
    "plt.plot(x_ax, y_test, label = 'true label', color = 'k', linestyle = '-')\n",
    "plt.plot(x_ax, clf.predict(X_test), label = 'predicted', color = 'k', linestyle = '--')\n",
    "plt.ylabel(\"Baby's birth weights\")\n",
    "plt.xlabel(\"Testing sample data\")\n",
    "plt.legend()\n",
    "plt.show()"
   ]
  },
  {
   "cell_type": "markdown",
   "id": "16012fd7",
   "metadata": {},
   "source": [
    "# Nonparametric Method-Random Forest"
   ]
  },
  {
   "cell_type": "code",
   "execution_count": null,
   "id": "6df47607",
   "metadata": {},
   "outputs": [],
   "source": [
    "clf1 = RandomForestRegressor(n_estimators= 200,max_depth=15)"
   ]
  },
  {
   "cell_type": "code",
   "execution_count": null,
   "id": "6ca72176",
   "metadata": {},
   "outputs": [],
   "source": [
    "clf1.fit(X_train, y_train)"
   ]
  },
  {
   "cell_type": "code",
   "execution_count": null,
   "id": "5a2b3a67",
   "metadata": {
    "scrolled": true
   },
   "outputs": [],
   "source": [
    "clf1.score(X_train, y_train)"
   ]
  },
  {
   "cell_type": "code",
   "execution_count": null,
   "id": "2bc1f991",
   "metadata": {},
   "outputs": [],
   "source": [
    "clf1.score(X_test, y_test)"
   ]
  },
  {
   "cell_type": "markdown",
   "id": "17dd26e7",
   "metadata": {},
   "source": [
    "#### Ploting the true labels and predicted labels"
   ]
  },
  {
   "cell_type": "code",
   "execution_count": null,
   "id": "c12a42ea",
   "metadata": {},
   "outputs": [],
   "source": [
    "plt.rcParams['figure.figsize'] = (10, 6)\n",
    "x_ax = range(len(X_test))\n",
    "plt.plot(x_ax, y_test, label = 'true label', color = 'k', linestyle = '-')\n",
    "plt.plot(x_ax, clf1.predict(X_test), label = 'predicted', color = 'k', linestyle = '--')\n",
    "plt.ylabel(\"Baby's birth weights\")\n",
    "plt.xlabel(\"Testing sample data\")\n",
    "plt.legend()\n",
    "plt.show()"
   ]
  },
  {
   "cell_type": "markdown",
   "id": "0134d591",
   "metadata": {},
   "source": [
    "# GLM"
   ]
  },
  {
   "cell_type": "code",
   "execution_count": null,
   "id": "fe974f2f",
   "metadata": {},
   "outputs": [],
   "source": [
    "#import the pymc3 package\n",
    "import pymc3 as pm\n",
    "from pymc3 import glm\n",
    "import statsmodels.api as sm\n",
    "import arviz as az"
   ]
  },
  {
   "cell_type": "markdown",
   "id": "f30a79e3",
   "metadata": {},
   "source": [
    "## Choice of Model - Linear Regression"
   ]
  },
  {
   "cell_type": "markdown",
   "id": "be49bb12",
   "metadata": {},
   "source": [
    "## Frequentist Regression"
   ]
  },
  {
   "cell_type": "code",
   "execution_count": null,
   "id": "952a4f6e",
   "metadata": {},
   "outputs": [],
   "source": [
    "freq_model = sm.GLM(birth.DBWT, exog = sm.add_constant(birth[['MAGER','PREVIS']]), \n",
    "                  family=sm.families.Gaussian())\n",
    "freq_res = freq_model.fit()\n",
    "print(freq_res.summary())"
   ]
  },
  {
   "cell_type": "markdown",
   "id": "70efd885",
   "metadata": {},
   "source": [
    "### Model Checking"
   ]
  },
  {
   "cell_type": "code",
   "execution_count": null,
   "id": "858e3680",
   "metadata": {},
   "outputs": [],
   "source": [
    "from statsmodels.graphics.api import abline_plot"
   ]
  },
  {
   "cell_type": "code",
   "execution_count": null,
   "id": "fcc104de",
   "metadata": {},
   "outputs": [],
   "source": [
    "nobs = freq_res.nobs\n",
    "y = np.array(birth['DBWT'])\n",
    "yhat = freq_res.mu"
   ]
  },
  {
   "cell_type": "code",
   "execution_count": null,
   "id": "f12f812b",
   "metadata": {
    "scrolled": true
   },
   "outputs": [],
   "source": [
    "fig, ax = plt.subplots()\n",
    "ax.scatter(yhat, y)\n",
    "line_fit = sm.OLS(y, sm.add_constant(yhat, prepend=True)).fit()\n",
    "abline_plot(model_results=line_fit, ax=ax)\n",
    "\n",
    "\n",
    "ax.set_title('Model Fit Plot')\n",
    "ax.set_ylabel('Observed values')\n",
    "ax.set_xlabel('Fitted values');"
   ]
  },
  {
   "cell_type": "code",
   "execution_count": null,
   "id": "3a687b30",
   "metadata": {
    "scrolled": false
   },
   "outputs": [],
   "source": [
    "from statsmodels import graphics\n",
    "resid = freq_res.resid_deviance.copy()\n",
    "graphics.gofplots.qqplot(resid, line='r')"
   ]
  },
  {
   "cell_type": "markdown",
   "id": "ef87cd5a",
   "metadata": {},
   "source": [
    "## Bayesian Regression"
   ]
  },
  {
   "cell_type": "code",
   "execution_count": null,
   "id": "5b59e19d",
   "metadata": {},
   "outputs": [],
   "source": [
    "dbwt = np.array(birth['DBWT'])\n",
    "mager = np.array(birth['MAGER'])\n",
    "previs = np.array(birth['PREVIS'])"
   ]
  },
  {
   "cell_type": "code",
   "execution_count": null,
   "id": "f9e22f3a",
   "metadata": {
    "scrolled": true
   },
   "outputs": [],
   "source": [
    "with pm.Model() as bayes_model:\n",
    "    #define the priors\n",
    "    sigma = pm.Exponential('sigma', lam=0.01)\n",
    "    intercept = pm.Normal(\"Intercept\", 3015, sigma=30)\n",
    "    beta_1 = pm.Normal(\"beta_1\", 2, sigma=3)\n",
    "    beta_2 = pm.Normal(\"beta_2\", 18, sigma=3)\n",
    "    \n",
    "    #likelihood\n",
    "    likelihood = pm.Normal(\"y\", mu = intercept + beta_1*mager + beta_2*previs, sigma = sigma, observed = dbwt)\n",
    "    \n",
    "    #inference\n",
    "    trace = pm.sample(1000, cores = 2, target_accept = 0.95, return_inferencedata=True)"
   ]
  },
  {
   "cell_type": "code",
   "execution_count": null,
   "id": "52d18628",
   "metadata": {
    "scrolled": false
   },
   "outputs": [],
   "source": [
    "az.plot_trace(trace, figsize=(20, 15))"
   ]
  },
  {
   "cell_type": "code",
   "execution_count": null,
   "id": "7a556b11",
   "metadata": {},
   "outputs": [],
   "source": [
    "np.mean(trace.posterior[\"Intercept\"].values)"
   ]
  },
  {
   "cell_type": "code",
   "execution_count": null,
   "id": "2fdf8270",
   "metadata": {},
   "outputs": [],
   "source": [
    "np.mean(trace.posterior[\"beta_1\"].values)"
   ]
  },
  {
   "cell_type": "code",
   "execution_count": null,
   "id": "a48f60c3",
   "metadata": {},
   "outputs": [],
   "source": [
    "np.mean(trace.posterior[\"beta_2\"].values)"
   ]
  },
  {
   "cell_type": "markdown",
   "id": "0b39f730",
   "metadata": {},
   "source": [
    "### Model Checking"
   ]
  },
  {
   "cell_type": "code",
   "execution_count": null,
   "id": "502b8a1c",
   "metadata": {},
   "outputs": [],
   "source": [
    "with bayes_model:\n",
    "    ppc = pm.sample_posterior_predictive(\n",
    "        trace, var_names=[\"beta_1\", \"beta_2\", \"Intercept\", \"y\"]\n",
    "    )"
   ]
  },
  {
   "cell_type": "code",
   "execution_count": null,
   "id": "8a7e0719",
   "metadata": {
    "scrolled": false
   },
   "outputs": [],
   "source": [
    "ppc"
   ]
  },
  {
   "cell_type": "code",
   "execution_count": null,
   "id": "0ef0993a",
   "metadata": {},
   "outputs": [],
   "source": [
    "for i in np.arange(100):\n",
    "    sns.histplot(ppc['y'][i])\n",
    "plt.title(\"PPC of Birth Weights\")"
   ]
  },
  {
   "cell_type": "code",
   "execution_count": null,
   "id": "89642b56",
   "metadata": {},
   "outputs": [],
   "source": [
    "#Actual birthweight histogram\n",
    "sns.histplot(birth['DBWT'])\n",
    "plt.title(\"Actual distribution of Birth Weights\")"
   ]
  },
  {
   "cell_type": "markdown",
   "id": "e6708298",
   "metadata": {},
   "source": [
    "### Uncertainty Quantification"
   ]
  },
  {
   "cell_type": "code",
   "execution_count": null,
   "id": "a6958824",
   "metadata": {},
   "outputs": [],
   "source": [
    "az.plot_posterior(trace, ['Intercept', 'beta_1', 'beta_2'], round_to = 3)"
   ]
  }
 ],
 "metadata": {
  "kernelspec": {
   "display_name": "birth",
   "language": "python",
   "name": "python3"
  },
  "language_info": {
   "name": "python",
   "version": "3.10.8 | packaged by conda-forge | (main, Nov 22 2022, 08:16:53) [MSC v.1929 64 bit (AMD64)]"
  },
  "orig_nbformat": 4,
  "vscode": {
   "interpreter": {
    "hash": "0e72c3fea10318a6098a8ed63ab023d6015358e09bf02390fd1e0c62964472b9"
   }
  }
 },
 "nbformat": 4,
 "nbformat_minor": 2
}
